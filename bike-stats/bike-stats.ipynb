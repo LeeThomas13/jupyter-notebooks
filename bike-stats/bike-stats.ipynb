{
 "metadata": {
  "language_info": {
   "codemirror_mode": {
    "name": "ipython",
    "version": 3
   },
   "file_extension": ".py",
   "mimetype": "text/x-python",
   "name": "python",
   "nbconvert_exporter": "python",
   "pygments_lexer": "ipython3",
   "version": "3.9.0-final"
  },
  "orig_nbformat": 2,
  "kernelspec": {
   "name": "python3",
   "display_name": "Python 3"
  }
 },
 "nbformat": 4,
 "nbformat_minor": 2,
 "cells": [
  {
   "source": [
    "# Bike Stats\n",
    "<ul>\n",
    "<li>1. What is the average trip duration for a borrowed bicycle?</li>\n",
    "<li>2. What's the most common age of a bicycle sharer?\n",
    "<li>3. Given all the weather data here, find the average precipitation per month, and the median precepitation.\n",
    "<li>4. What's the average number of bikes at a given bike station?\n",
    "<li>5. When a bike station is modified, is it more likely that it'll lose bikes or gain bikes? How do you know?\n",
    "<li>6. Come up wiht 3 more questions that can be answered with this data set.\n",
    "</ul>"
   ],
   "cell_type": "markdown",
   "metadata": {}
  },
  {
   "cell_type": "code",
   "execution_count": 4,
   "metadata": {},
   "outputs": [
    {
     "output_type": "stream",
     "name": "stderr",
     "text": [
      "b'Skipping line 50794: expected 12 fields, saw 20\\n'\n"
     ]
    }
   ],
   "source": [
    "import pandas as pd\n",
    "import numpy as np\n",
    "dfs = pd.read_csv('./station.csv')\n",
    "dft = pd.read_csv('./trip.csv', error_bad_lines=False)\n",
    "dfw = pd.read_csv('./weather.csv')"
   ]
  },
  {
   "cell_type": "code",
   "execution_count": null,
   "metadata": {},
   "outputs": [],
   "source": [
    "#1. What is the average trip duration for a borrowed bicycle?\n"
   ]
  }
 ]
}