{
 "metadata": {
  "language_info": {
   "codemirror_mode": {
    "name": "ipython",
    "version": 3
   },
   "file_extension": ".py",
   "mimetype": "text/x-python",
   "name": "python",
   "nbconvert_exporter": "python",
   "pygments_lexer": "ipython3",
   "version": "3.9.0-final"
  },
  "orig_nbformat": 2,
  "kernelspec": {
   "name": "python3",
   "display_name": "Python 3"
  }
 },
 "nbformat": 4,
 "nbformat_minor": 2,
 "cells": [
  {
   "source": [
    "# Video Game Data Science\n",
    "<br>\n",
    "1. Which company is the most common video game publisher?\n",
    "<br>\n",
    "    Electronic Arts \n",
    "<br>\n",
    "2. What’s the most common platform?\n",
    "<br>\n",
    "    The DS\n",
    "<br>\n",
    "3. What about the most common genre?\n",
    "<br>\n",
    "    Action\n",
    "<br>\n",
    "4. What are the top 20 highest grossing games?\n",
    "<br>\n",
    "\t\t82.74\tWii Sports\n",
    "\t<br>\n",
    "\t\t40.24\tSuper Mario Bros.\n",
    "\t<br>\n",
    "\t\t35.82\tMario Kart Wii\n",
    "\t<br>\n",
    "\t\t33.00\tWii Sports Resort\n",
    "\t<br>\n",
    "\t\t31.37\tPokemon Red/Pokemon Blue\n",
    "\t<br>\n",
    "\t\t30.26\tTetris\n",
    "\t<br>\n",
    "\t\t30.01\tNew Super Mario Bros.\n",
    "\t<br>\n",
    "\t\t29.02\tWii Play\n",
    "\t<br>\n",
    "\t\t28.62\tNew Super Mario Bros. Wii\n",
    "\t<br>\n",
    "\t\t28.31\tDuck Hunt\n",
    "\t<br>\n",
    "\t\t24.76\tNintendogs\n",
    "\t<br>\n",
    "\t\t23.42\tMario Kart DS\n",
    "\t<br>\n",
    "\t\t23.10\tPokemon Gold/Pokemon Silver\n",
    "\t<br>\n",
    "\t\t22.72\tWii Fit\n",
    "\t<br>\n",
    "\t\t22.00\tWii Fit Plus\n",
    "\t<br>\n",
    "\t\t21.82\tKinect Adventures!\n",
    "\t<br>\n",
    "\t\t21.40\tGrand Theft Auto V\n",
    "\t<br>\n",
    "\t\t20.81\tGrand Theft Auto: San Andreas\n",
    "\t<br>\n",
    "\t\t20.61\tSuper Mario World\n",
    "\t<br>\n",
    "\t\t20.22\tBrain Age: Train Your Brain in Minutes a Day\n",
    "<br>\n",
    "5. For North American video game sales, what’s the median?\n",
    "<br>\n",
    "\tNA_Sales    0.08\n",
    "<br>\n",
    "6. Provide a secondary output showing ten games surrounding the median sales output assume that games with same median value are sorted in descending order.\n",
    "<br>\n",
    "\t\n",
    "7. For the top-selling game of all time, how many standard deviations above/below the mean are its sales for North America?\n",
    "<br>\n",
    "8. The Nintendo Wii seems to have outdone itself with games. How does its average number of sales compare with all of the other platforms?\n",
    "<br>\n",
    "9. Come up with 3 more questions that can be answered with this data set.\n",
    "\n",
    "\n"
   ],
   "cell_type": "markdown",
   "metadata": {}
  },
  {
   "cell_type": "code",
   "execution_count": 1,
   "metadata": {},
   "outputs": [],
   "source": [
    "import pandas as pd\n",
    "import numpy as np"
   ]
  },
  {
   "cell_type": "code",
   "execution_count": 2,
   "metadata": {},
   "outputs": [
    {
     "output_type": "execute_result",
     "data": {
      "text/plain": [
       "         Publisher\n",
       "0  Electronic Arts"
      ],
      "text/html": "<div>\n<style scoped>\n    .dataframe tbody tr th:only-of-type {\n        vertical-align: middle;\n    }\n\n    .dataframe tbody tr th {\n        vertical-align: top;\n    }\n\n    .dataframe thead th {\n        text-align: right;\n    }\n</style>\n<table border=\"1\" class=\"dataframe\">\n  <thead>\n    <tr style=\"text-align: right;\">\n      <th></th>\n      <th>Publisher</th>\n    </tr>\n  </thead>\n  <tbody>\n    <tr>\n      <th>0</th>\n      <td>Electronic Arts</td>\n    </tr>\n  </tbody>\n</table>\n</div>"
     },
     "metadata": {},
     "execution_count": 2
    }
   ],
   "source": [
    "#1. Which company is the most common video game publisher?\n",
    "df = pd.read_csv('./vgsales.csv')\n",
    "df[['Publisher']].mode()"
   ]
  },
  {
   "cell_type": "code",
   "execution_count": 10,
   "metadata": {},
   "outputs": [
    {
     "output_type": "execute_result",
     "data": {
      "text/plain": [
       "  Platform\n",
       "0       DS"
      ],
      "text/html": "<div>\n<style scoped>\n    .dataframe tbody tr th:only-of-type {\n        vertical-align: middle;\n    }\n\n    .dataframe tbody tr th {\n        vertical-align: top;\n    }\n\n    .dataframe thead th {\n        text-align: right;\n    }\n</style>\n<table border=\"1\" class=\"dataframe\">\n  <thead>\n    <tr style=\"text-align: right;\">\n      <th></th>\n      <th>Platform</th>\n    </tr>\n  </thead>\n  <tbody>\n    <tr>\n      <th>0</th>\n      <td>DS</td>\n    </tr>\n  </tbody>\n</table>\n</div>"
     },
     "metadata": {},
     "execution_count": 10
    }
   ],
   "source": [
    "# 2. What’s the most common platform?\n",
    "df[['Platform']].mode()"
   ]
  },
  {
   "cell_type": "code",
   "execution_count": 12,
   "metadata": {},
   "outputs": [
    {
     "output_type": "execute_result",
     "data": {
      "text/plain": [
       "    Genre\n",
       "0  Action"
      ],
      "text/html": "<div>\n<style scoped>\n    .dataframe tbody tr th:only-of-type {\n        vertical-align: middle;\n    }\n\n    .dataframe tbody tr th {\n        vertical-align: top;\n    }\n\n    .dataframe thead th {\n        text-align: right;\n    }\n</style>\n<table border=\"1\" class=\"dataframe\">\n  <thead>\n    <tr style=\"text-align: right;\">\n      <th></th>\n      <th>Genre</th>\n    </tr>\n  </thead>\n  <tbody>\n    <tr>\n      <th>0</th>\n      <td>Action</td>\n    </tr>\n  </tbody>\n</table>\n</div>"
     },
     "metadata": {},
     "execution_count": 12
    }
   ],
   "source": [
    "# 3. What about the most common genre?\n",
    "df[['Genre']].mode()"
   ]
  },
  {
   "cell_type": "code",
   "execution_count": 14,
   "metadata": {},
   "outputs": [
    {
     "output_type": "execute_result",
     "data": {
      "text/plain": [
       "    Global_Sales                                          Name\n",
       "0          82.74                                    Wii Sports\n",
       "1          40.24                             Super Mario Bros.\n",
       "2          35.82                                Mario Kart Wii\n",
       "3          33.00                             Wii Sports Resort\n",
       "4          31.37                      Pokemon Red/Pokemon Blue\n",
       "5          30.26                                        Tetris\n",
       "6          30.01                         New Super Mario Bros.\n",
       "7          29.02                                      Wii Play\n",
       "8          28.62                     New Super Mario Bros. Wii\n",
       "9          28.31                                     Duck Hunt\n",
       "10         24.76                                    Nintendogs\n",
       "11         23.42                                 Mario Kart DS\n",
       "12         23.10                   Pokemon Gold/Pokemon Silver\n",
       "13         22.72                                       Wii Fit\n",
       "14         22.00                                  Wii Fit Plus\n",
       "15         21.82                            Kinect Adventures!\n",
       "16         21.40                            Grand Theft Auto V\n",
       "17         20.81                 Grand Theft Auto: San Andreas\n",
       "18         20.61                             Super Mario World\n",
       "19         20.22  Brain Age: Train Your Brain in Minutes a Day"
      ],
      "text/html": "<div>\n<style scoped>\n    .dataframe tbody tr th:only-of-type {\n        vertical-align: middle;\n    }\n\n    .dataframe tbody tr th {\n        vertical-align: top;\n    }\n\n    .dataframe thead th {\n        text-align: right;\n    }\n</style>\n<table border=\"1\" class=\"dataframe\">\n  <thead>\n    <tr style=\"text-align: right;\">\n      <th></th>\n      <th>Global_Sales</th>\n      <th>Name</th>\n    </tr>\n  </thead>\n  <tbody>\n    <tr>\n      <th>0</th>\n      <td>82.74</td>\n      <td>Wii Sports</td>\n    </tr>\n    <tr>\n      <th>1</th>\n      <td>40.24</td>\n      <td>Super Mario Bros.</td>\n    </tr>\n    <tr>\n      <th>2</th>\n      <td>35.82</td>\n      <td>Mario Kart Wii</td>\n    </tr>\n    <tr>\n      <th>3</th>\n      <td>33.00</td>\n      <td>Wii Sports Resort</td>\n    </tr>\n    <tr>\n      <th>4</th>\n      <td>31.37</td>\n      <td>Pokemon Red/Pokemon Blue</td>\n    </tr>\n    <tr>\n      <th>5</th>\n      <td>30.26</td>\n      <td>Tetris</td>\n    </tr>\n    <tr>\n      <th>6</th>\n      <td>30.01</td>\n      <td>New Super Mario Bros.</td>\n    </tr>\n    <tr>\n      <th>7</th>\n      <td>29.02</td>\n      <td>Wii Play</td>\n    </tr>\n    <tr>\n      <th>8</th>\n      <td>28.62</td>\n      <td>New Super Mario Bros. Wii</td>\n    </tr>\n    <tr>\n      <th>9</th>\n      <td>28.31</td>\n      <td>Duck Hunt</td>\n    </tr>\n    <tr>\n      <th>10</th>\n      <td>24.76</td>\n      <td>Nintendogs</td>\n    </tr>\n    <tr>\n      <th>11</th>\n      <td>23.42</td>\n      <td>Mario Kart DS</td>\n    </tr>\n    <tr>\n      <th>12</th>\n      <td>23.10</td>\n      <td>Pokemon Gold/Pokemon Silver</td>\n    </tr>\n    <tr>\n      <th>13</th>\n      <td>22.72</td>\n      <td>Wii Fit</td>\n    </tr>\n    <tr>\n      <th>14</th>\n      <td>22.00</td>\n      <td>Wii Fit Plus</td>\n    </tr>\n    <tr>\n      <th>15</th>\n      <td>21.82</td>\n      <td>Kinect Adventures!</td>\n    </tr>\n    <tr>\n      <th>16</th>\n      <td>21.40</td>\n      <td>Grand Theft Auto V</td>\n    </tr>\n    <tr>\n      <th>17</th>\n      <td>20.81</td>\n      <td>Grand Theft Auto: San Andreas</td>\n    </tr>\n    <tr>\n      <th>18</th>\n      <td>20.61</td>\n      <td>Super Mario World</td>\n    </tr>\n    <tr>\n      <th>19</th>\n      <td>20.22</td>\n      <td>Brain Age: Train Your Brain in Minutes a Day</td>\n    </tr>\n  </tbody>\n</table>\n</div>"
     },
     "metadata": {},
     "execution_count": 14
    }
   ],
   "source": [
    "# 4. What are the top 20 highest grossing games?\n",
    "df[['Global_Sales', 'Name']].head(20)"
   ]
  },
  {
   "cell_type": "code",
   "execution_count": 16,
   "metadata": {},
   "outputs": [
    {
     "output_type": "execute_result",
     "data": {
      "text/plain": [
       "NA_Sales    0.08\n",
       "dtype: float64"
      ]
     },
     "metadata": {},
     "execution_count": 16
    }
   ],
   "source": [
    "# 5. For North American video game sales, what’s the median?\n",
    "df[['NA_Sales']].median()"
   ]
  },
  {
   "cell_type": "code",
   "execution_count": 21,
   "metadata": {},
   "outputs": [
    {
     "output_type": "error",
     "ename": "AttributeError",
     "evalue": "'Publisher' is not a valid function for 'Series' object",
     "traceback": [
      "\u001b[0;31m---------------------------------------------------------------------------\u001b[0m",
      "\u001b[0;31mAttributeError\u001b[0m                            Traceback (most recent call last)",
      "\u001b[0;32m<ipython-input-21-dc84ed5bc0cf>\u001b[0m in \u001b[0;36m<module>\u001b[0;34m\u001b[0m\n\u001b[1;32m      1\u001b[0m \u001b[0;31m# 6. Provide a secondary output showing ten games surrounding the median sales output assume that games with same median value are sorted in descending order.\u001b[0m\u001b[0;34m\u001b[0m\u001b[0;34m\u001b[0m\u001b[0;34m\u001b[0m\u001b[0m\n\u001b[0;32m----> 2\u001b[0;31m \u001b[0mdf\u001b[0m\u001b[0;34m[\u001b[0m\u001b[0;34m'Name'\u001b[0m\u001b[0;34m]\u001b[0m \u001b[0;34m=\u001b[0m \u001b[0mdf\u001b[0m\u001b[0;34m[\u001b[0m\u001b[0;34m'Name'\u001b[0m\u001b[0;34m]\u001b[0m\u001b[0;34m.\u001b[0m\u001b[0mapply\u001b[0m\u001b[0;34m(\u001b[0m\u001b[0;34m'Publisher'\u001b[0m\u001b[0;34m)\u001b[0m\u001b[0;34m\u001b[0m\u001b[0;34m\u001b[0m\u001b[0m\n\u001b[0m",
      "\u001b[0;32m~/codefellows/401-python/jupyter-notebooks/vg-stats/.venv/lib/python3.9/site-packages/pandas/core/series.py\u001b[0m in \u001b[0;36mapply\u001b[0;34m(self, func, convert_dtype, args, **kwds)\u001b[0m\n\u001b[1;32m   4189\u001b[0m         \u001b[0;31m# if we are a string, try to dispatch\u001b[0m\u001b[0;34m\u001b[0m\u001b[0;34m\u001b[0m\u001b[0;34m\u001b[0m\u001b[0m\n\u001b[1;32m   4190\u001b[0m         \u001b[0;32mif\u001b[0m \u001b[0misinstance\u001b[0m\u001b[0;34m(\u001b[0m\u001b[0mfunc\u001b[0m\u001b[0;34m,\u001b[0m \u001b[0mstr\u001b[0m\u001b[0;34m)\u001b[0m\u001b[0;34m:\u001b[0m\u001b[0;34m\u001b[0m\u001b[0;34m\u001b[0m\u001b[0m\n\u001b[0;32m-> 4191\u001b[0;31m             \u001b[0;32mreturn\u001b[0m \u001b[0mself\u001b[0m\u001b[0;34m.\u001b[0m\u001b[0m_try_aggregate_string_function\u001b[0m\u001b[0;34m(\u001b[0m\u001b[0mfunc\u001b[0m\u001b[0;34m,\u001b[0m \u001b[0;34m*\u001b[0m\u001b[0margs\u001b[0m\u001b[0;34m,\u001b[0m \u001b[0;34m**\u001b[0m\u001b[0mkwds\u001b[0m\u001b[0;34m)\u001b[0m\u001b[0;34m\u001b[0m\u001b[0;34m\u001b[0m\u001b[0m\n\u001b[0m\u001b[1;32m   4192\u001b[0m \u001b[0;34m\u001b[0m\u001b[0m\n\u001b[1;32m   4193\u001b[0m         \u001b[0;31m# handle ufuncs and lambdas\u001b[0m\u001b[0;34m\u001b[0m\u001b[0;34m\u001b[0m\u001b[0;34m\u001b[0m\u001b[0m\n",
      "\u001b[0;32m~/codefellows/401-python/jupyter-notebooks/vg-stats/.venv/lib/python3.9/site-packages/pandas/core/base.py\u001b[0m in \u001b[0;36m_try_aggregate_string_function\u001b[0;34m(self, arg, *args, **kwargs)\u001b[0m\n\u001b[1;32m    275\u001b[0m                 \u001b[0;32mreturn\u001b[0m \u001b[0mf\u001b[0m\u001b[0;34m(\u001b[0m\u001b[0mself\u001b[0m\u001b[0;34m,\u001b[0m \u001b[0;34m*\u001b[0m\u001b[0margs\u001b[0m\u001b[0;34m,\u001b[0m \u001b[0;34m**\u001b[0m\u001b[0mkwargs\u001b[0m\u001b[0;34m)\u001b[0m\u001b[0;34m\u001b[0m\u001b[0;34m\u001b[0m\u001b[0m\n\u001b[1;32m    276\u001b[0m \u001b[0;34m\u001b[0m\u001b[0m\n\u001b[0;32m--> 277\u001b[0;31m         raise AttributeError(\n\u001b[0m\u001b[1;32m    278\u001b[0m             \u001b[0;34mf\"'{arg}' is not a valid function for '{type(self).__name__}' object\"\u001b[0m\u001b[0;34m\u001b[0m\u001b[0;34m\u001b[0m\u001b[0m\n\u001b[1;32m    279\u001b[0m         )\n",
      "\u001b[0;31mAttributeError\u001b[0m: 'Publisher' is not a valid function for 'Series' object"
     ]
    }
   ],
   "source": [
    "# 6. Provide a secondary output showing ten games surrounding the median sales output assume that games with same median value are sorted in descending order.\n",
    "df['Name'] = df['Name'].apply('Publisher')\n"
   ]
  },
  {
   "cell_type": "code",
   "execution_count": 3,
   "metadata": {},
   "outputs": [
    {
     "output_type": "stream",
     "name": "stdout",
     "text": [
      "<class 'pandas.core.frame.DataFrame'>\nRangeIndex: 16598 entries, 0 to 16597\nData columns (total 11 columns):\n #   Column        Non-Null Count  Dtype  \n---  ------        --------------  -----  \n 0   Rank          16598 non-null  int64  \n 1   Name          16598 non-null  object \n 2   Platform      16598 non-null  object \n 3   Year          16327 non-null  float64\n 4   Genre         16598 non-null  object \n 5   Publisher     16540 non-null  object \n 6   NA_Sales      16598 non-null  float64\n 7   EU_Sales      16598 non-null  float64\n 8   JP_Sales      16598 non-null  float64\n 9   Other_Sales   16598 non-null  float64\n 10  Global_Sales  16598 non-null  float64\ndtypes: float64(6), int64(1), object(4)\nmemory usage: 1.4+ MB\n"
     ]
    }
   ],
   "source": [
    "df = pd.read_csv('./vgsales.csv')\n",
    "df.info()"
   ]
  },
  {
   "cell_type": "code",
   "execution_count": 4,
   "metadata": {},
   "outputs": [
    {
     "output_type": "execute_result",
     "data": {
      "text/plain": [
       "    Rank                                          Name Platform    Year  \\\n",
       "0      1                                    Wii Sports      Wii  2006.0   \n",
       "1      2                             Super Mario Bros.      NES  1985.0   \n",
       "2      3                                Mario Kart Wii      Wii  2008.0   \n",
       "3      4                             Wii Sports Resort      Wii  2009.0   \n",
       "4      5                      Pokemon Red/Pokemon Blue       GB  1996.0   \n",
       "5      6                                        Tetris       GB  1989.0   \n",
       "6      7                         New Super Mario Bros.       DS  2006.0   \n",
       "7      8                                      Wii Play      Wii  2006.0   \n",
       "8      9                     New Super Mario Bros. Wii      Wii  2009.0   \n",
       "9     10                                     Duck Hunt      NES  1984.0   \n",
       "10    11                                    Nintendogs       DS  2005.0   \n",
       "11    12                                 Mario Kart DS       DS  2005.0   \n",
       "12    13                   Pokemon Gold/Pokemon Silver       GB  1999.0   \n",
       "13    14                                       Wii Fit      Wii  2007.0   \n",
       "14    15                                  Wii Fit Plus      Wii  2009.0   \n",
       "15    16                            Kinect Adventures!     X360  2010.0   \n",
       "16    17                            Grand Theft Auto V      PS3  2013.0   \n",
       "17    18                 Grand Theft Auto: San Andreas      PS2  2004.0   \n",
       "18    19                             Super Mario World     SNES  1990.0   \n",
       "19    20  Brain Age: Train Your Brain in Minutes a Day       DS  2005.0   \n",
       "\n",
       "           Genre               Publisher  NA_Sales  EU_Sales  JP_Sales  \\\n",
       "0         Sports                Nintendo     41.49     29.02      3.77   \n",
       "1       Platform                Nintendo     29.08      3.58      6.81   \n",
       "2         Racing                Nintendo     15.85     12.88      3.79   \n",
       "3         Sports                Nintendo     15.75     11.01      3.28   \n",
       "4   Role-Playing                Nintendo     11.27      8.89     10.22   \n",
       "5         Puzzle                Nintendo     23.20      2.26      4.22   \n",
       "6       Platform                Nintendo     11.38      9.23      6.50   \n",
       "7           Misc                Nintendo     14.03      9.20      2.93   \n",
       "8       Platform                Nintendo     14.59      7.06      4.70   \n",
       "9        Shooter                Nintendo     26.93      0.63      0.28   \n",
       "10    Simulation                Nintendo      9.07     11.00      1.93   \n",
       "11        Racing                Nintendo      9.81      7.57      4.13   \n",
       "12  Role-Playing                Nintendo      9.00      6.18      7.20   \n",
       "13        Sports                Nintendo      8.94      8.03      3.60   \n",
       "14        Sports                Nintendo      9.09      8.59      2.53   \n",
       "15          Misc  Microsoft Game Studios     14.97      4.94      0.24   \n",
       "16        Action    Take-Two Interactive      7.01      9.27      0.97   \n",
       "17        Action    Take-Two Interactive      9.43      0.40      0.41   \n",
       "18      Platform                Nintendo     12.78      3.75      3.54   \n",
       "19          Misc                Nintendo      4.75      9.26      4.16   \n",
       "\n",
       "    Other_Sales  Global_Sales  \n",
       "0          8.46         82.74  \n",
       "1          0.77         40.24  \n",
       "2          3.31         35.82  \n",
       "3          2.96         33.00  \n",
       "4          1.00         31.37  \n",
       "5          0.58         30.26  \n",
       "6          2.90         30.01  \n",
       "7          2.85         29.02  \n",
       "8          2.26         28.62  \n",
       "9          0.47         28.31  \n",
       "10         2.75         24.76  \n",
       "11         1.92         23.42  \n",
       "12         0.71         23.10  \n",
       "13         2.15         22.72  \n",
       "14         1.79         22.00  \n",
       "15         1.67         21.82  \n",
       "16         4.14         21.40  \n",
       "17        10.57         20.81  \n",
       "18         0.55         20.61  \n",
       "19         2.05         20.22  "
      ],
      "text/html": "<div>\n<style scoped>\n    .dataframe tbody tr th:only-of-type {\n        vertical-align: middle;\n    }\n\n    .dataframe tbody tr th {\n        vertical-align: top;\n    }\n\n    .dataframe thead th {\n        text-align: right;\n    }\n</style>\n<table border=\"1\" class=\"dataframe\">\n  <thead>\n    <tr style=\"text-align: right;\">\n      <th></th>\n      <th>Rank</th>\n      <th>Name</th>\n      <th>Platform</th>\n      <th>Year</th>\n      <th>Genre</th>\n      <th>Publisher</th>\n      <th>NA_Sales</th>\n      <th>EU_Sales</th>\n      <th>JP_Sales</th>\n      <th>Other_Sales</th>\n      <th>Global_Sales</th>\n    </tr>\n  </thead>\n  <tbody>\n    <tr>\n      <th>0</th>\n      <td>1</td>\n      <td>Wii Sports</td>\n      <td>Wii</td>\n      <td>2006.0</td>\n      <td>Sports</td>\n      <td>Nintendo</td>\n      <td>41.49</td>\n      <td>29.02</td>\n      <td>3.77</td>\n      <td>8.46</td>\n      <td>82.74</td>\n    </tr>\n    <tr>\n      <th>1</th>\n      <td>2</td>\n      <td>Super Mario Bros.</td>\n      <td>NES</td>\n      <td>1985.0</td>\n      <td>Platform</td>\n      <td>Nintendo</td>\n      <td>29.08</td>\n      <td>3.58</td>\n      <td>6.81</td>\n      <td>0.77</td>\n      <td>40.24</td>\n    </tr>\n    <tr>\n      <th>2</th>\n      <td>3</td>\n      <td>Mario Kart Wii</td>\n      <td>Wii</td>\n      <td>2008.0</td>\n      <td>Racing</td>\n      <td>Nintendo</td>\n      <td>15.85</td>\n      <td>12.88</td>\n      <td>3.79</td>\n      <td>3.31</td>\n      <td>35.82</td>\n    </tr>\n    <tr>\n      <th>3</th>\n      <td>4</td>\n      <td>Wii Sports Resort</td>\n      <td>Wii</td>\n      <td>2009.0</td>\n      <td>Sports</td>\n      <td>Nintendo</td>\n      <td>15.75</td>\n      <td>11.01</td>\n      <td>3.28</td>\n      <td>2.96</td>\n      <td>33.00</td>\n    </tr>\n    <tr>\n      <th>4</th>\n      <td>5</td>\n      <td>Pokemon Red/Pokemon Blue</td>\n      <td>GB</td>\n      <td>1996.0</td>\n      <td>Role-Playing</td>\n      <td>Nintendo</td>\n      <td>11.27</td>\n      <td>8.89</td>\n      <td>10.22</td>\n      <td>1.00</td>\n      <td>31.37</td>\n    </tr>\n    <tr>\n      <th>5</th>\n      <td>6</td>\n      <td>Tetris</td>\n      <td>GB</td>\n      <td>1989.0</td>\n      <td>Puzzle</td>\n      <td>Nintendo</td>\n      <td>23.20</td>\n      <td>2.26</td>\n      <td>4.22</td>\n      <td>0.58</td>\n      <td>30.26</td>\n    </tr>\n    <tr>\n      <th>6</th>\n      <td>7</td>\n      <td>New Super Mario Bros.</td>\n      <td>DS</td>\n      <td>2006.0</td>\n      <td>Platform</td>\n      <td>Nintendo</td>\n      <td>11.38</td>\n      <td>9.23</td>\n      <td>6.50</td>\n      <td>2.90</td>\n      <td>30.01</td>\n    </tr>\n    <tr>\n      <th>7</th>\n      <td>8</td>\n      <td>Wii Play</td>\n      <td>Wii</td>\n      <td>2006.0</td>\n      <td>Misc</td>\n      <td>Nintendo</td>\n      <td>14.03</td>\n      <td>9.20</td>\n      <td>2.93</td>\n      <td>2.85</td>\n      <td>29.02</td>\n    </tr>\n    <tr>\n      <th>8</th>\n      <td>9</td>\n      <td>New Super Mario Bros. Wii</td>\n      <td>Wii</td>\n      <td>2009.0</td>\n      <td>Platform</td>\n      <td>Nintendo</td>\n      <td>14.59</td>\n      <td>7.06</td>\n      <td>4.70</td>\n      <td>2.26</td>\n      <td>28.62</td>\n    </tr>\n    <tr>\n      <th>9</th>\n      <td>10</td>\n      <td>Duck Hunt</td>\n      <td>NES</td>\n      <td>1984.0</td>\n      <td>Shooter</td>\n      <td>Nintendo</td>\n      <td>26.93</td>\n      <td>0.63</td>\n      <td>0.28</td>\n      <td>0.47</td>\n      <td>28.31</td>\n    </tr>\n    <tr>\n      <th>10</th>\n      <td>11</td>\n      <td>Nintendogs</td>\n      <td>DS</td>\n      <td>2005.0</td>\n      <td>Simulation</td>\n      <td>Nintendo</td>\n      <td>9.07</td>\n      <td>11.00</td>\n      <td>1.93</td>\n      <td>2.75</td>\n      <td>24.76</td>\n    </tr>\n    <tr>\n      <th>11</th>\n      <td>12</td>\n      <td>Mario Kart DS</td>\n      <td>DS</td>\n      <td>2005.0</td>\n      <td>Racing</td>\n      <td>Nintendo</td>\n      <td>9.81</td>\n      <td>7.57</td>\n      <td>4.13</td>\n      <td>1.92</td>\n      <td>23.42</td>\n    </tr>\n    <tr>\n      <th>12</th>\n      <td>13</td>\n      <td>Pokemon Gold/Pokemon Silver</td>\n      <td>GB</td>\n      <td>1999.0</td>\n      <td>Role-Playing</td>\n      <td>Nintendo</td>\n      <td>9.00</td>\n      <td>6.18</td>\n      <td>7.20</td>\n      <td>0.71</td>\n      <td>23.10</td>\n    </tr>\n    <tr>\n      <th>13</th>\n      <td>14</td>\n      <td>Wii Fit</td>\n      <td>Wii</td>\n      <td>2007.0</td>\n      <td>Sports</td>\n      <td>Nintendo</td>\n      <td>8.94</td>\n      <td>8.03</td>\n      <td>3.60</td>\n      <td>2.15</td>\n      <td>22.72</td>\n    </tr>\n    <tr>\n      <th>14</th>\n      <td>15</td>\n      <td>Wii Fit Plus</td>\n      <td>Wii</td>\n      <td>2009.0</td>\n      <td>Sports</td>\n      <td>Nintendo</td>\n      <td>9.09</td>\n      <td>8.59</td>\n      <td>2.53</td>\n      <td>1.79</td>\n      <td>22.00</td>\n    </tr>\n    <tr>\n      <th>15</th>\n      <td>16</td>\n      <td>Kinect Adventures!</td>\n      <td>X360</td>\n      <td>2010.0</td>\n      <td>Misc</td>\n      <td>Microsoft Game Studios</td>\n      <td>14.97</td>\n      <td>4.94</td>\n      <td>0.24</td>\n      <td>1.67</td>\n      <td>21.82</td>\n    </tr>\n    <tr>\n      <th>16</th>\n      <td>17</td>\n      <td>Grand Theft Auto V</td>\n      <td>PS3</td>\n      <td>2013.0</td>\n      <td>Action</td>\n      <td>Take-Two Interactive</td>\n      <td>7.01</td>\n      <td>9.27</td>\n      <td>0.97</td>\n      <td>4.14</td>\n      <td>21.40</td>\n    </tr>\n    <tr>\n      <th>17</th>\n      <td>18</td>\n      <td>Grand Theft Auto: San Andreas</td>\n      <td>PS2</td>\n      <td>2004.0</td>\n      <td>Action</td>\n      <td>Take-Two Interactive</td>\n      <td>9.43</td>\n      <td>0.40</td>\n      <td>0.41</td>\n      <td>10.57</td>\n      <td>20.81</td>\n    </tr>\n    <tr>\n      <th>18</th>\n      <td>19</td>\n      <td>Super Mario World</td>\n      <td>SNES</td>\n      <td>1990.0</td>\n      <td>Platform</td>\n      <td>Nintendo</td>\n      <td>12.78</td>\n      <td>3.75</td>\n      <td>3.54</td>\n      <td>0.55</td>\n      <td>20.61</td>\n    </tr>\n    <tr>\n      <th>19</th>\n      <td>20</td>\n      <td>Brain Age: Train Your Brain in Minutes a Day</td>\n      <td>DS</td>\n      <td>2005.0</td>\n      <td>Misc</td>\n      <td>Nintendo</td>\n      <td>4.75</td>\n      <td>9.26</td>\n      <td>4.16</td>\n      <td>2.05</td>\n      <td>20.22</td>\n    </tr>\n  </tbody>\n</table>\n</div>"
     },
     "metadata": {},
     "execution_count": 4
    }
   ],
   "source": [
    "df.head(20)"
   ]
  },
  {
   "cell_type": "code",
   "execution_count": 5,
   "metadata": {},
   "outputs": [
    {
     "output_type": "execute_result",
     "data": {
      "text/plain": [
       "        Rank                                               Name Platform  \\\n",
       "16578  16581                      Outdoors Unleashed: Africa 3D      3DS   \n",
       "16579  16582                                  PGA European Tour      N64   \n",
       "16580  16583                                          Real Rode      PS2   \n",
       "16581  16584                                          Fit & Fun      Wii   \n",
       "16582  16585                                    Planet Monsters      GBA   \n",
       "16583  16586                                     Carmageddon 64      N64   \n",
       "16584  16587                                   Bust-A-Move 3000       GC   \n",
       "16585  16588                                             Breach       PC   \n",
       "16586  16589                     Secret Files 2: Puritas Cordis       DS   \n",
       "16587  16590                           Mezase!! Tsuri Master DS       DS   \n",
       "16588  16591                                   Mega Brain Boost       DS   \n",
       "16589  16592  Chou Ezaru wa Akai Hana: Koi wa Tsuki ni Shiru...      PSV   \n",
       "16590  16593  Eiyuu Densetsu: Sora no Kiseki Material Collec...      PSP   \n",
       "16591  16594                                Myst IV: Revelation       PC   \n",
       "16592  16595                                           Plushees       DS   \n",
       "16593  16596                 Woody Woodpecker in Crazy Castle 5      GBA   \n",
       "16594  16597                      Men in Black II: Alien Escape       GC   \n",
       "16595  16598   SCORE International Baja 1000: The Official Game      PS2   \n",
       "16596  16599                                         Know How 2       DS   \n",
       "16597  16600                                   Spirits & Spells      GBA   \n",
       "\n",
       "         Year         Genre              Publisher  NA_Sales  EU_Sales  \\\n",
       "16578  2011.0        Sports                Mastiff      0.01      0.00   \n",
       "16579  2000.0        Sports             Infogrames      0.01      0.00   \n",
       "16580  2008.0     Adventure        Kadokawa Shoten      0.00      0.00   \n",
       "16581  2011.0        Sports                Unknown      0.00      0.01   \n",
       "16582  2001.0        Action                  Titus      0.01      0.00   \n",
       "16583  1999.0        Action     Virgin Interactive      0.01      0.00   \n",
       "16584  2003.0        Puzzle                Ubisoft      0.01      0.00   \n",
       "16585  2011.0       Shooter              Destineer      0.01      0.00   \n",
       "16586  2009.0     Adventure            Deep Silver      0.00      0.01   \n",
       "16587  2009.0        Sports            Hudson Soft      0.00      0.00   \n",
       "16588  2008.0        Puzzle  Majesco Entertainment      0.01      0.00   \n",
       "16589  2016.0        Action        dramatic create      0.00      0.00   \n",
       "16590  2007.0  Role-Playing     Falcom Corporation      0.00      0.00   \n",
       "16591  2004.0     Adventure                Ubisoft      0.01      0.00   \n",
       "16592  2008.0    Simulation              Destineer      0.01      0.00   \n",
       "16593  2002.0      Platform                  Kemco      0.01      0.00   \n",
       "16594  2003.0       Shooter             Infogrames      0.01      0.00   \n",
       "16595  2008.0        Racing             Activision      0.00      0.00   \n",
       "16596  2010.0        Puzzle               7G//AMES      0.00      0.01   \n",
       "16597  2003.0      Platform                Wanadoo      0.01      0.00   \n",
       "\n",
       "       JP_Sales  Other_Sales  Global_Sales  \n",
       "16578      0.00          0.0          0.01  \n",
       "16579      0.00          0.0          0.01  \n",
       "16580      0.01          0.0          0.01  \n",
       "16581      0.00          0.0          0.01  \n",
       "16582      0.00          0.0          0.01  \n",
       "16583      0.00          0.0          0.01  \n",
       "16584      0.00          0.0          0.01  \n",
       "16585      0.00          0.0          0.01  \n",
       "16586      0.00          0.0          0.01  \n",
       "16587      0.01          0.0          0.01  \n",
       "16588      0.00          0.0          0.01  \n",
       "16589      0.01          0.0          0.01  \n",
       "16590      0.01          0.0          0.01  \n",
       "16591      0.00          0.0          0.01  \n",
       "16592      0.00          0.0          0.01  \n",
       "16593      0.00          0.0          0.01  \n",
       "16594      0.00          0.0          0.01  \n",
       "16595      0.00          0.0          0.01  \n",
       "16596      0.00          0.0          0.01  \n",
       "16597      0.00          0.0          0.01  "
      ],
      "text/html": "<div>\n<style scoped>\n    .dataframe tbody tr th:only-of-type {\n        vertical-align: middle;\n    }\n\n    .dataframe tbody tr th {\n        vertical-align: top;\n    }\n\n    .dataframe thead th {\n        text-align: right;\n    }\n</style>\n<table border=\"1\" class=\"dataframe\">\n  <thead>\n    <tr style=\"text-align: right;\">\n      <th></th>\n      <th>Rank</th>\n      <th>Name</th>\n      <th>Platform</th>\n      <th>Year</th>\n      <th>Genre</th>\n      <th>Publisher</th>\n      <th>NA_Sales</th>\n      <th>EU_Sales</th>\n      <th>JP_Sales</th>\n      <th>Other_Sales</th>\n      <th>Global_Sales</th>\n    </tr>\n  </thead>\n  <tbody>\n    <tr>\n      <th>16578</th>\n      <td>16581</td>\n      <td>Outdoors Unleashed: Africa 3D</td>\n      <td>3DS</td>\n      <td>2011.0</td>\n      <td>Sports</td>\n      <td>Mastiff</td>\n      <td>0.01</td>\n      <td>0.00</td>\n      <td>0.00</td>\n      <td>0.0</td>\n      <td>0.01</td>\n    </tr>\n    <tr>\n      <th>16579</th>\n      <td>16582</td>\n      <td>PGA European Tour</td>\n      <td>N64</td>\n      <td>2000.0</td>\n      <td>Sports</td>\n      <td>Infogrames</td>\n      <td>0.01</td>\n      <td>0.00</td>\n      <td>0.00</td>\n      <td>0.0</td>\n      <td>0.01</td>\n    </tr>\n    <tr>\n      <th>16580</th>\n      <td>16583</td>\n      <td>Real Rode</td>\n      <td>PS2</td>\n      <td>2008.0</td>\n      <td>Adventure</td>\n      <td>Kadokawa Shoten</td>\n      <td>0.00</td>\n      <td>0.00</td>\n      <td>0.01</td>\n      <td>0.0</td>\n      <td>0.01</td>\n    </tr>\n    <tr>\n      <th>16581</th>\n      <td>16584</td>\n      <td>Fit &amp; Fun</td>\n      <td>Wii</td>\n      <td>2011.0</td>\n      <td>Sports</td>\n      <td>Unknown</td>\n      <td>0.00</td>\n      <td>0.01</td>\n      <td>0.00</td>\n      <td>0.0</td>\n      <td>0.01</td>\n    </tr>\n    <tr>\n      <th>16582</th>\n      <td>16585</td>\n      <td>Planet Monsters</td>\n      <td>GBA</td>\n      <td>2001.0</td>\n      <td>Action</td>\n      <td>Titus</td>\n      <td>0.01</td>\n      <td>0.00</td>\n      <td>0.00</td>\n      <td>0.0</td>\n      <td>0.01</td>\n    </tr>\n    <tr>\n      <th>16583</th>\n      <td>16586</td>\n      <td>Carmageddon 64</td>\n      <td>N64</td>\n      <td>1999.0</td>\n      <td>Action</td>\n      <td>Virgin Interactive</td>\n      <td>0.01</td>\n      <td>0.00</td>\n      <td>0.00</td>\n      <td>0.0</td>\n      <td>0.01</td>\n    </tr>\n    <tr>\n      <th>16584</th>\n      <td>16587</td>\n      <td>Bust-A-Move 3000</td>\n      <td>GC</td>\n      <td>2003.0</td>\n      <td>Puzzle</td>\n      <td>Ubisoft</td>\n      <td>0.01</td>\n      <td>0.00</td>\n      <td>0.00</td>\n      <td>0.0</td>\n      <td>0.01</td>\n    </tr>\n    <tr>\n      <th>16585</th>\n      <td>16588</td>\n      <td>Breach</td>\n      <td>PC</td>\n      <td>2011.0</td>\n      <td>Shooter</td>\n      <td>Destineer</td>\n      <td>0.01</td>\n      <td>0.00</td>\n      <td>0.00</td>\n      <td>0.0</td>\n      <td>0.01</td>\n    </tr>\n    <tr>\n      <th>16586</th>\n      <td>16589</td>\n      <td>Secret Files 2: Puritas Cordis</td>\n      <td>DS</td>\n      <td>2009.0</td>\n      <td>Adventure</td>\n      <td>Deep Silver</td>\n      <td>0.00</td>\n      <td>0.01</td>\n      <td>0.00</td>\n      <td>0.0</td>\n      <td>0.01</td>\n    </tr>\n    <tr>\n      <th>16587</th>\n      <td>16590</td>\n      <td>Mezase!! Tsuri Master DS</td>\n      <td>DS</td>\n      <td>2009.0</td>\n      <td>Sports</td>\n      <td>Hudson Soft</td>\n      <td>0.00</td>\n      <td>0.00</td>\n      <td>0.01</td>\n      <td>0.0</td>\n      <td>0.01</td>\n    </tr>\n    <tr>\n      <th>16588</th>\n      <td>16591</td>\n      <td>Mega Brain Boost</td>\n      <td>DS</td>\n      <td>2008.0</td>\n      <td>Puzzle</td>\n      <td>Majesco Entertainment</td>\n      <td>0.01</td>\n      <td>0.00</td>\n      <td>0.00</td>\n      <td>0.0</td>\n      <td>0.01</td>\n    </tr>\n    <tr>\n      <th>16589</th>\n      <td>16592</td>\n      <td>Chou Ezaru wa Akai Hana: Koi wa Tsuki ni Shiru...</td>\n      <td>PSV</td>\n      <td>2016.0</td>\n      <td>Action</td>\n      <td>dramatic create</td>\n      <td>0.00</td>\n      <td>0.00</td>\n      <td>0.01</td>\n      <td>0.0</td>\n      <td>0.01</td>\n    </tr>\n    <tr>\n      <th>16590</th>\n      <td>16593</td>\n      <td>Eiyuu Densetsu: Sora no Kiseki Material Collec...</td>\n      <td>PSP</td>\n      <td>2007.0</td>\n      <td>Role-Playing</td>\n      <td>Falcom Corporation</td>\n      <td>0.00</td>\n      <td>0.00</td>\n      <td>0.01</td>\n      <td>0.0</td>\n      <td>0.01</td>\n    </tr>\n    <tr>\n      <th>16591</th>\n      <td>16594</td>\n      <td>Myst IV: Revelation</td>\n      <td>PC</td>\n      <td>2004.0</td>\n      <td>Adventure</td>\n      <td>Ubisoft</td>\n      <td>0.01</td>\n      <td>0.00</td>\n      <td>0.00</td>\n      <td>0.0</td>\n      <td>0.01</td>\n    </tr>\n    <tr>\n      <th>16592</th>\n      <td>16595</td>\n      <td>Plushees</td>\n      <td>DS</td>\n      <td>2008.0</td>\n      <td>Simulation</td>\n      <td>Destineer</td>\n      <td>0.01</td>\n      <td>0.00</td>\n      <td>0.00</td>\n      <td>0.0</td>\n      <td>0.01</td>\n    </tr>\n    <tr>\n      <th>16593</th>\n      <td>16596</td>\n      <td>Woody Woodpecker in Crazy Castle 5</td>\n      <td>GBA</td>\n      <td>2002.0</td>\n      <td>Platform</td>\n      <td>Kemco</td>\n      <td>0.01</td>\n      <td>0.00</td>\n      <td>0.00</td>\n      <td>0.0</td>\n      <td>0.01</td>\n    </tr>\n    <tr>\n      <th>16594</th>\n      <td>16597</td>\n      <td>Men in Black II: Alien Escape</td>\n      <td>GC</td>\n      <td>2003.0</td>\n      <td>Shooter</td>\n      <td>Infogrames</td>\n      <td>0.01</td>\n      <td>0.00</td>\n      <td>0.00</td>\n      <td>0.0</td>\n      <td>0.01</td>\n    </tr>\n    <tr>\n      <th>16595</th>\n      <td>16598</td>\n      <td>SCORE International Baja 1000: The Official Game</td>\n      <td>PS2</td>\n      <td>2008.0</td>\n      <td>Racing</td>\n      <td>Activision</td>\n      <td>0.00</td>\n      <td>0.00</td>\n      <td>0.00</td>\n      <td>0.0</td>\n      <td>0.01</td>\n    </tr>\n    <tr>\n      <th>16596</th>\n      <td>16599</td>\n      <td>Know How 2</td>\n      <td>DS</td>\n      <td>2010.0</td>\n      <td>Puzzle</td>\n      <td>7G//AMES</td>\n      <td>0.00</td>\n      <td>0.01</td>\n      <td>0.00</td>\n      <td>0.0</td>\n      <td>0.01</td>\n    </tr>\n    <tr>\n      <th>16597</th>\n      <td>16600</td>\n      <td>Spirits &amp; Spells</td>\n      <td>GBA</td>\n      <td>2003.0</td>\n      <td>Platform</td>\n      <td>Wanadoo</td>\n      <td>0.01</td>\n      <td>0.00</td>\n      <td>0.00</td>\n      <td>0.0</td>\n      <td>0.01</td>\n    </tr>\n  </tbody>\n</table>\n</div>"
     },
     "metadata": {},
     "execution_count": 5
    }
   ],
   "source": [
    "df.tail(20)"
   ]
  },
  {
   "cell_type": "code",
   "execution_count": 6,
   "metadata": {},
   "outputs": [
    {
     "output_type": "execute_result",
     "data": {
      "text/plain": [
       "                                                   Name    Year\n",
       "0                                            Wii Sports  2006.0\n",
       "1                                     Super Mario Bros.  1985.0\n",
       "2                                        Mario Kart Wii  2008.0\n",
       "3                                     Wii Sports Resort  2009.0\n",
       "4                              Pokemon Red/Pokemon Blue  1996.0\n",
       "...                                                 ...     ...\n",
       "16593                Woody Woodpecker in Crazy Castle 5  2002.0\n",
       "16594                     Men in Black II: Alien Escape  2003.0\n",
       "16595  SCORE International Baja 1000: The Official Game  2008.0\n",
       "16596                                        Know How 2  2010.0\n",
       "16597                                  Spirits & Spells  2003.0\n",
       "\n",
       "[16598 rows x 2 columns]"
      ],
      "text/html": "<div>\n<style scoped>\n    .dataframe tbody tr th:only-of-type {\n        vertical-align: middle;\n    }\n\n    .dataframe tbody tr th {\n        vertical-align: top;\n    }\n\n    .dataframe thead th {\n        text-align: right;\n    }\n</style>\n<table border=\"1\" class=\"dataframe\">\n  <thead>\n    <tr style=\"text-align: right;\">\n      <th></th>\n      <th>Name</th>\n      <th>Year</th>\n    </tr>\n  </thead>\n  <tbody>\n    <tr>\n      <th>0</th>\n      <td>Wii Sports</td>\n      <td>2006.0</td>\n    </tr>\n    <tr>\n      <th>1</th>\n      <td>Super Mario Bros.</td>\n      <td>1985.0</td>\n    </tr>\n    <tr>\n      <th>2</th>\n      <td>Mario Kart Wii</td>\n      <td>2008.0</td>\n    </tr>\n    <tr>\n      <th>3</th>\n      <td>Wii Sports Resort</td>\n      <td>2009.0</td>\n    </tr>\n    <tr>\n      <th>4</th>\n      <td>Pokemon Red/Pokemon Blue</td>\n      <td>1996.0</td>\n    </tr>\n    <tr>\n      <th>...</th>\n      <td>...</td>\n      <td>...</td>\n    </tr>\n    <tr>\n      <th>16593</th>\n      <td>Woody Woodpecker in Crazy Castle 5</td>\n      <td>2002.0</td>\n    </tr>\n    <tr>\n      <th>16594</th>\n      <td>Men in Black II: Alien Escape</td>\n      <td>2003.0</td>\n    </tr>\n    <tr>\n      <th>16595</th>\n      <td>SCORE International Baja 1000: The Official Game</td>\n      <td>2008.0</td>\n    </tr>\n    <tr>\n      <th>16596</th>\n      <td>Know How 2</td>\n      <td>2010.0</td>\n    </tr>\n    <tr>\n      <th>16597</th>\n      <td>Spirits &amp; Spells</td>\n      <td>2003.0</td>\n    </tr>\n  </tbody>\n</table>\n<p>16598 rows × 2 columns</p>\n</div>"
     },
     "metadata": {},
     "execution_count": 6
    }
   ],
   "source": [
    "df[['Name', 'Year']]"
   ]
  },
  {
   "cell_type": "code",
   "execution_count": 7,
   "metadata": {},
   "outputs": [
    {
     "output_type": "execute_result",
     "data": {
      "text/plain": [
       "                                                   Rank Platform    Year  \\\n",
       "Name                                                                       \n",
       "Wii Sports                                            1      Wii  2006.0   \n",
       "Super Mario Bros.                                     2      NES  1985.0   \n",
       "Mario Kart Wii                                        3      Wii  2008.0   \n",
       "Wii Sports Resort                                     4      Wii  2009.0   \n",
       "Pokemon Red/Pokemon Blue                              5       GB  1996.0   \n",
       "...                                                 ...      ...     ...   \n",
       "Woody Woodpecker in Crazy Castle 5                16596      GBA  2002.0   \n",
       "Men in Black II: Alien Escape                     16597       GC  2003.0   \n",
       "SCORE International Baja 1000: The Official Game  16598      PS2  2008.0   \n",
       "Know How 2                                        16599       DS  2010.0   \n",
       "Spirits & Spells                                  16600      GBA  2003.0   \n",
       "\n",
       "                                                         Genre   Publisher  \\\n",
       "Name                                                                         \n",
       "Wii Sports                                              Sports    Nintendo   \n",
       "Super Mario Bros.                                     Platform    Nintendo   \n",
       "Mario Kart Wii                                          Racing    Nintendo   \n",
       "Wii Sports Resort                                       Sports    Nintendo   \n",
       "Pokemon Red/Pokemon Blue                          Role-Playing    Nintendo   \n",
       "...                                                        ...         ...   \n",
       "Woody Woodpecker in Crazy Castle 5                    Platform       Kemco   \n",
       "Men in Black II: Alien Escape                          Shooter  Infogrames   \n",
       "SCORE International Baja 1000: The Official Game        Racing  Activision   \n",
       "Know How 2                                              Puzzle    7G//AMES   \n",
       "Spirits & Spells                                      Platform     Wanadoo   \n",
       "\n",
       "                                                  NA_Sales  EU_Sales  \\\n",
       "Name                                                                   \n",
       "Wii Sports                                           41.49     29.02   \n",
       "Super Mario Bros.                                    29.08      3.58   \n",
       "Mario Kart Wii                                       15.85     12.88   \n",
       "Wii Sports Resort                                    15.75     11.01   \n",
       "Pokemon Red/Pokemon Blue                             11.27      8.89   \n",
       "...                                                    ...       ...   \n",
       "Woody Woodpecker in Crazy Castle 5                    0.01      0.00   \n",
       "Men in Black II: Alien Escape                         0.01      0.00   \n",
       "SCORE International Baja 1000: The Official Game      0.00      0.00   \n",
       "Know How 2                                            0.00      0.01   \n",
       "Spirits & Spells                                      0.01      0.00   \n",
       "\n",
       "                                                  JP_Sales  Other_Sales  \\\n",
       "Name                                                                      \n",
       "Wii Sports                                            3.77         8.46   \n",
       "Super Mario Bros.                                     6.81         0.77   \n",
       "Mario Kart Wii                                        3.79         3.31   \n",
       "Wii Sports Resort                                     3.28         2.96   \n",
       "Pokemon Red/Pokemon Blue                             10.22         1.00   \n",
       "...                                                    ...          ...   \n",
       "Woody Woodpecker in Crazy Castle 5                    0.00         0.00   \n",
       "Men in Black II: Alien Escape                         0.00         0.00   \n",
       "SCORE International Baja 1000: The Official Game      0.00         0.00   \n",
       "Know How 2                                            0.00         0.00   \n",
       "Spirits & Spells                                      0.00         0.00   \n",
       "\n",
       "                                                  Global_Sales  \n",
       "Name                                                            \n",
       "Wii Sports                                               82.74  \n",
       "Super Mario Bros.                                        40.24  \n",
       "Mario Kart Wii                                           35.82  \n",
       "Wii Sports Resort                                        33.00  \n",
       "Pokemon Red/Pokemon Blue                                 31.37  \n",
       "...                                                        ...  \n",
       "Woody Woodpecker in Crazy Castle 5                        0.01  \n",
       "Men in Black II: Alien Escape                             0.01  \n",
       "SCORE International Baja 1000: The Official Game          0.01  \n",
       "Know How 2                                                0.01  \n",
       "Spirits & Spells                                          0.01  \n",
       "\n",
       "[16598 rows x 10 columns]"
      ],
      "text/html": "<div>\n<style scoped>\n    .dataframe tbody tr th:only-of-type {\n        vertical-align: middle;\n    }\n\n    .dataframe tbody tr th {\n        vertical-align: top;\n    }\n\n    .dataframe thead th {\n        text-align: right;\n    }\n</style>\n<table border=\"1\" class=\"dataframe\">\n  <thead>\n    <tr style=\"text-align: right;\">\n      <th></th>\n      <th>Rank</th>\n      <th>Platform</th>\n      <th>Year</th>\n      <th>Genre</th>\n      <th>Publisher</th>\n      <th>NA_Sales</th>\n      <th>EU_Sales</th>\n      <th>JP_Sales</th>\n      <th>Other_Sales</th>\n      <th>Global_Sales</th>\n    </tr>\n    <tr>\n      <th>Name</th>\n      <th></th>\n      <th></th>\n      <th></th>\n      <th></th>\n      <th></th>\n      <th></th>\n      <th></th>\n      <th></th>\n      <th></th>\n      <th></th>\n    </tr>\n  </thead>\n  <tbody>\n    <tr>\n      <th>Wii Sports</th>\n      <td>1</td>\n      <td>Wii</td>\n      <td>2006.0</td>\n      <td>Sports</td>\n      <td>Nintendo</td>\n      <td>41.49</td>\n      <td>29.02</td>\n      <td>3.77</td>\n      <td>8.46</td>\n      <td>82.74</td>\n    </tr>\n    <tr>\n      <th>Super Mario Bros.</th>\n      <td>2</td>\n      <td>NES</td>\n      <td>1985.0</td>\n      <td>Platform</td>\n      <td>Nintendo</td>\n      <td>29.08</td>\n      <td>3.58</td>\n      <td>6.81</td>\n      <td>0.77</td>\n      <td>40.24</td>\n    </tr>\n    <tr>\n      <th>Mario Kart Wii</th>\n      <td>3</td>\n      <td>Wii</td>\n      <td>2008.0</td>\n      <td>Racing</td>\n      <td>Nintendo</td>\n      <td>15.85</td>\n      <td>12.88</td>\n      <td>3.79</td>\n      <td>3.31</td>\n      <td>35.82</td>\n    </tr>\n    <tr>\n      <th>Wii Sports Resort</th>\n      <td>4</td>\n      <td>Wii</td>\n      <td>2009.0</td>\n      <td>Sports</td>\n      <td>Nintendo</td>\n      <td>15.75</td>\n      <td>11.01</td>\n      <td>3.28</td>\n      <td>2.96</td>\n      <td>33.00</td>\n    </tr>\n    <tr>\n      <th>Pokemon Red/Pokemon Blue</th>\n      <td>5</td>\n      <td>GB</td>\n      <td>1996.0</td>\n      <td>Role-Playing</td>\n      <td>Nintendo</td>\n      <td>11.27</td>\n      <td>8.89</td>\n      <td>10.22</td>\n      <td>1.00</td>\n      <td>31.37</td>\n    </tr>\n    <tr>\n      <th>...</th>\n      <td>...</td>\n      <td>...</td>\n      <td>...</td>\n      <td>...</td>\n      <td>...</td>\n      <td>...</td>\n      <td>...</td>\n      <td>...</td>\n      <td>...</td>\n      <td>...</td>\n    </tr>\n    <tr>\n      <th>Woody Woodpecker in Crazy Castle 5</th>\n      <td>16596</td>\n      <td>GBA</td>\n      <td>2002.0</td>\n      <td>Platform</td>\n      <td>Kemco</td>\n      <td>0.01</td>\n      <td>0.00</td>\n      <td>0.00</td>\n      <td>0.00</td>\n      <td>0.01</td>\n    </tr>\n    <tr>\n      <th>Men in Black II: Alien Escape</th>\n      <td>16597</td>\n      <td>GC</td>\n      <td>2003.0</td>\n      <td>Shooter</td>\n      <td>Infogrames</td>\n      <td>0.01</td>\n      <td>0.00</td>\n      <td>0.00</td>\n      <td>0.00</td>\n      <td>0.01</td>\n    </tr>\n    <tr>\n      <th>SCORE International Baja 1000: The Official Game</th>\n      <td>16598</td>\n      <td>PS2</td>\n      <td>2008.0</td>\n      <td>Racing</td>\n      <td>Activision</td>\n      <td>0.00</td>\n      <td>0.00</td>\n      <td>0.00</td>\n      <td>0.00</td>\n      <td>0.01</td>\n    </tr>\n    <tr>\n      <th>Know How 2</th>\n      <td>16599</td>\n      <td>DS</td>\n      <td>2010.0</td>\n      <td>Puzzle</td>\n      <td>7G//AMES</td>\n      <td>0.00</td>\n      <td>0.01</td>\n      <td>0.00</td>\n      <td>0.00</td>\n      <td>0.01</td>\n    </tr>\n    <tr>\n      <th>Spirits &amp; Spells</th>\n      <td>16600</td>\n      <td>GBA</td>\n      <td>2003.0</td>\n      <td>Platform</td>\n      <td>Wanadoo</td>\n      <td>0.01</td>\n      <td>0.00</td>\n      <td>0.00</td>\n      <td>0.00</td>\n      <td>0.01</td>\n    </tr>\n  </tbody>\n</table>\n<p>16598 rows × 10 columns</p>\n</div>"
     },
     "metadata": {},
     "execution_count": 7
    }
   ],
   "source": [
    "df.set_index('Name',)"
   ]
  },
  {
   "cell_type": "code",
   "execution_count": 8,
   "metadata": {},
   "outputs": [
    {
     "output_type": "execute_result",
     "data": {
      "text/plain": [
       "                                            Name               Publisher  \\\n",
       "0                                     Wii Sports                Nintendo   \n",
       "1                              Super Mario Bros.                Nintendo   \n",
       "2                                 Mario Kart Wii                Nintendo   \n",
       "3                              Wii Sports Resort                Nintendo   \n",
       "4                       Pokemon Red/Pokemon Blue                Nintendo   \n",
       "5                                         Tetris                Nintendo   \n",
       "6                          New Super Mario Bros.                Nintendo   \n",
       "7                                       Wii Play                Nintendo   \n",
       "8                      New Super Mario Bros. Wii                Nintendo   \n",
       "9                                      Duck Hunt                Nintendo   \n",
       "10                                    Nintendogs                Nintendo   \n",
       "11                                 Mario Kart DS                Nintendo   \n",
       "12                   Pokemon Gold/Pokemon Silver                Nintendo   \n",
       "13                                       Wii Fit                Nintendo   \n",
       "14                                  Wii Fit Plus                Nintendo   \n",
       "15                            Kinect Adventures!  Microsoft Game Studios   \n",
       "16                            Grand Theft Auto V    Take-Two Interactive   \n",
       "17                 Grand Theft Auto: San Andreas    Take-Two Interactive   \n",
       "18                             Super Mario World                Nintendo   \n",
       "19  Brain Age: Train Your Brain in Minutes a Day                Nintendo   \n",
       "\n",
       "    Global_Sales  \n",
       "0          82.74  \n",
       "1          40.24  \n",
       "2          35.82  \n",
       "3          33.00  \n",
       "4          31.37  \n",
       "5          30.26  \n",
       "6          30.01  \n",
       "7          29.02  \n",
       "8          28.62  \n",
       "9          28.31  \n",
       "10         24.76  \n",
       "11         23.42  \n",
       "12         23.10  \n",
       "13         22.72  \n",
       "14         22.00  \n",
       "15         21.82  \n",
       "16         21.40  \n",
       "17         20.81  \n",
       "18         20.61  \n",
       "19         20.22  "
      ],
      "text/html": "<div>\n<style scoped>\n    .dataframe tbody tr th:only-of-type {\n        vertical-align: middle;\n    }\n\n    .dataframe tbody tr th {\n        vertical-align: top;\n    }\n\n    .dataframe thead th {\n        text-align: right;\n    }\n</style>\n<table border=\"1\" class=\"dataframe\">\n  <thead>\n    <tr style=\"text-align: right;\">\n      <th></th>\n      <th>Name</th>\n      <th>Publisher</th>\n      <th>Global_Sales</th>\n    </tr>\n  </thead>\n  <tbody>\n    <tr>\n      <th>0</th>\n      <td>Wii Sports</td>\n      <td>Nintendo</td>\n      <td>82.74</td>\n    </tr>\n    <tr>\n      <th>1</th>\n      <td>Super Mario Bros.</td>\n      <td>Nintendo</td>\n      <td>40.24</td>\n    </tr>\n    <tr>\n      <th>2</th>\n      <td>Mario Kart Wii</td>\n      <td>Nintendo</td>\n      <td>35.82</td>\n    </tr>\n    <tr>\n      <th>3</th>\n      <td>Wii Sports Resort</td>\n      <td>Nintendo</td>\n      <td>33.00</td>\n    </tr>\n    <tr>\n      <th>4</th>\n      <td>Pokemon Red/Pokemon Blue</td>\n      <td>Nintendo</td>\n      <td>31.37</td>\n    </tr>\n    <tr>\n      <th>5</th>\n      <td>Tetris</td>\n      <td>Nintendo</td>\n      <td>30.26</td>\n    </tr>\n    <tr>\n      <th>6</th>\n      <td>New Super Mario Bros.</td>\n      <td>Nintendo</td>\n      <td>30.01</td>\n    </tr>\n    <tr>\n      <th>7</th>\n      <td>Wii Play</td>\n      <td>Nintendo</td>\n      <td>29.02</td>\n    </tr>\n    <tr>\n      <th>8</th>\n      <td>New Super Mario Bros. Wii</td>\n      <td>Nintendo</td>\n      <td>28.62</td>\n    </tr>\n    <tr>\n      <th>9</th>\n      <td>Duck Hunt</td>\n      <td>Nintendo</td>\n      <td>28.31</td>\n    </tr>\n    <tr>\n      <th>10</th>\n      <td>Nintendogs</td>\n      <td>Nintendo</td>\n      <td>24.76</td>\n    </tr>\n    <tr>\n      <th>11</th>\n      <td>Mario Kart DS</td>\n      <td>Nintendo</td>\n      <td>23.42</td>\n    </tr>\n    <tr>\n      <th>12</th>\n      <td>Pokemon Gold/Pokemon Silver</td>\n      <td>Nintendo</td>\n      <td>23.10</td>\n    </tr>\n    <tr>\n      <th>13</th>\n      <td>Wii Fit</td>\n      <td>Nintendo</td>\n      <td>22.72</td>\n    </tr>\n    <tr>\n      <th>14</th>\n      <td>Wii Fit Plus</td>\n      <td>Nintendo</td>\n      <td>22.00</td>\n    </tr>\n    <tr>\n      <th>15</th>\n      <td>Kinect Adventures!</td>\n      <td>Microsoft Game Studios</td>\n      <td>21.82</td>\n    </tr>\n    <tr>\n      <th>16</th>\n      <td>Grand Theft Auto V</td>\n      <td>Take-Two Interactive</td>\n      <td>21.40</td>\n    </tr>\n    <tr>\n      <th>17</th>\n      <td>Grand Theft Auto: San Andreas</td>\n      <td>Take-Two Interactive</td>\n      <td>20.81</td>\n    </tr>\n    <tr>\n      <th>18</th>\n      <td>Super Mario World</td>\n      <td>Nintendo</td>\n      <td>20.61</td>\n    </tr>\n    <tr>\n      <th>19</th>\n      <td>Brain Age: Train Your Brain in Minutes a Day</td>\n      <td>Nintendo</td>\n      <td>20.22</td>\n    </tr>\n  </tbody>\n</table>\n</div>"
     },
     "metadata": {},
     "execution_count": 8
    }
   ],
   "source": [
    "df[['Name', 'Publisher', 'Global_Sales']].head(20)"
   ]
  },
  {
   "cell_type": "code",
   "execution_count": 9,
   "metadata": {},
   "outputs": [
    {
     "output_type": "error",
     "ename": "KeyError",
     "evalue": "'Genre'",
     "traceback": [
      "\u001b[0;31m---------------------------------------------------------------------------\u001b[0m",
      "\u001b[0;31mKeyError\u001b[0m                                  Traceback (most recent call last)",
      "\u001b[0;32m<ipython-input-9-5908b6f02158>\u001b[0m in \u001b[0;36m<module>\u001b[0;34m\u001b[0m\n\u001b[1;32m      1\u001b[0m \u001b[0;31m# ???\u001b[0m\u001b[0;34m\u001b[0m\u001b[0;34m\u001b[0m\u001b[0;34m\u001b[0m\u001b[0m\n\u001b[0;32m----> 2\u001b[0;31m \u001b[0mdf\u001b[0m\u001b[0;34m[\u001b[0m\u001b[0;34m[\u001b[0m\u001b[0;34m'Name'\u001b[0m\u001b[0;34m,\u001b[0m \u001b[0;34m'Publisher'\u001b[0m\u001b[0;34m,\u001b[0m \u001b[0;34m'Global_Sales'\u001b[0m\u001b[0;34m]\u001b[0m\u001b[0;34m]\u001b[0m\u001b[0;34m.\u001b[0m\u001b[0msort_values\u001b[0m\u001b[0;34m(\u001b[0m\u001b[0;34m'Genre'\u001b[0m\u001b[0;34m,\u001b[0m \u001b[0mascending\u001b[0m\u001b[0;34m=\u001b[0m\u001b[0;32mFalse\u001b[0m\u001b[0;34m)\u001b[0m\u001b[0;34m\u001b[0m\u001b[0;34m\u001b[0m\u001b[0m\n\u001b[0m",
      "\u001b[0;32m~/codefellows/401-python/jupyter-notebooks/vg-stats/.venv/lib/python3.9/site-packages/pandas/core/frame.py\u001b[0m in \u001b[0;36msort_values\u001b[0;34m(self, by, axis, ascending, inplace, kind, na_position, ignore_index, key)\u001b[0m\n\u001b[1;32m   5296\u001b[0m \u001b[0;34m\u001b[0m\u001b[0m\n\u001b[1;32m   5297\u001b[0m             \u001b[0mby\u001b[0m \u001b[0;34m=\u001b[0m \u001b[0mby\u001b[0m\u001b[0;34m[\u001b[0m\u001b[0;36m0\u001b[0m\u001b[0;34m]\u001b[0m\u001b[0;34m\u001b[0m\u001b[0;34m\u001b[0m\u001b[0m\n\u001b[0;32m-> 5298\u001b[0;31m             \u001b[0mk\u001b[0m \u001b[0;34m=\u001b[0m \u001b[0mself\u001b[0m\u001b[0;34m.\u001b[0m\u001b[0m_get_label_or_level_values\u001b[0m\u001b[0;34m(\u001b[0m\u001b[0mby\u001b[0m\u001b[0;34m,\u001b[0m \u001b[0maxis\u001b[0m\u001b[0;34m=\u001b[0m\u001b[0maxis\u001b[0m\u001b[0;34m)\u001b[0m\u001b[0;34m\u001b[0m\u001b[0;34m\u001b[0m\u001b[0m\n\u001b[0m\u001b[1;32m   5299\u001b[0m \u001b[0;34m\u001b[0m\u001b[0m\n\u001b[1;32m   5300\u001b[0m             \u001b[0;31m# need to rewrap column in Series to apply key function\u001b[0m\u001b[0;34m\u001b[0m\u001b[0;34m\u001b[0m\u001b[0;34m\u001b[0m\u001b[0m\n",
      "\u001b[0;32m~/codefellows/401-python/jupyter-notebooks/vg-stats/.venv/lib/python3.9/site-packages/pandas/core/generic.py\u001b[0m in \u001b[0;36m_get_label_or_level_values\u001b[0;34m(self, key, axis)\u001b[0m\n\u001b[1;32m   1561\u001b[0m             \u001b[0mvalues\u001b[0m \u001b[0;34m=\u001b[0m \u001b[0mself\u001b[0m\u001b[0;34m.\u001b[0m\u001b[0maxes\u001b[0m\u001b[0;34m[\u001b[0m\u001b[0maxis\u001b[0m\u001b[0;34m]\u001b[0m\u001b[0;34m.\u001b[0m\u001b[0mget_level_values\u001b[0m\u001b[0;34m(\u001b[0m\u001b[0mkey\u001b[0m\u001b[0;34m)\u001b[0m\u001b[0;34m.\u001b[0m\u001b[0m_values\u001b[0m\u001b[0;34m\u001b[0m\u001b[0;34m\u001b[0m\u001b[0m\n\u001b[1;32m   1562\u001b[0m         \u001b[0;32melse\u001b[0m\u001b[0;34m:\u001b[0m\u001b[0;34m\u001b[0m\u001b[0;34m\u001b[0m\u001b[0m\n\u001b[0;32m-> 1563\u001b[0;31m             \u001b[0;32mraise\u001b[0m \u001b[0mKeyError\u001b[0m\u001b[0;34m(\u001b[0m\u001b[0mkey\u001b[0m\u001b[0;34m)\u001b[0m\u001b[0;34m\u001b[0m\u001b[0;34m\u001b[0m\u001b[0m\n\u001b[0m\u001b[1;32m   1564\u001b[0m \u001b[0;34m\u001b[0m\u001b[0m\n\u001b[1;32m   1565\u001b[0m         \u001b[0;31m# Check for duplicates\u001b[0m\u001b[0;34m\u001b[0m\u001b[0;34m\u001b[0m\u001b[0;34m\u001b[0m\u001b[0m\n",
      "\u001b[0;31mKeyError\u001b[0m: 'Genre'"
     ]
    }
   ],
   "source": [
    "# ???\n",
    "df[['Name', 'Publisher', 'Global_Sales']].sort_values('Genre', ascending=False)"
   ]
  },
  {
   "cell_type": "code",
   "execution_count": 15,
   "metadata": {},
   "outputs": [
    {
     "output_type": "execute_result",
     "data": {
      "text/plain": [
       "29.5125"
      ]
     },
     "metadata": {},
     "execution_count": 15
    }
   ],
   "source": [
    "#gathering the mean of all data, you can chain .methods\n",
    "df['Global_Sales'].head(20).mean()"
   ]
  },
  {
   "cell_type": "code",
   "execution_count": 19,
   "metadata": {},
   "outputs": [
    {
     "output_type": "execute_result",
     "data": {
      "text/plain": [
       "        Rank                                              Name Platform  \\\n",
       "28        29                            Gran Turismo 3: A-Spec      PS2   \n",
       "29        30                    Call of Duty: Modern Warfare 3     X360   \n",
       "30        31           Pokémon Yellow: Special Pikachu Edition       GB   \n",
       "31        32                           Call of Duty: Black Ops     X360   \n",
       "32        33                               Pokemon X/Pokemon Y      3DS   \n",
       "...      ...                                               ...      ...   \n",
       "16593  16596                Woody Woodpecker in Crazy Castle 5      GBA   \n",
       "16594  16597                     Men in Black II: Alien Escape       GC   \n",
       "16595  16598  SCORE International Baja 1000: The Official Game      PS2   \n",
       "16596  16599                                        Know How 2       DS   \n",
       "16597  16600                                  Spirits & Spells      GBA   \n",
       "\n",
       "         Year         Genre                    Publisher  NA_Sales  EU_Sales  \\\n",
       "28     2001.0        Racing  Sony Computer Entertainment      6.85      5.09   \n",
       "29     2011.0       Shooter                   Activision      9.03      4.28   \n",
       "30     1998.0  Role-Playing                     Nintendo      5.89      5.04   \n",
       "31     2010.0       Shooter                   Activision      9.67      3.73   \n",
       "32     2013.0  Role-Playing                     Nintendo      5.17      4.05   \n",
       "...       ...           ...                          ...       ...       ...   \n",
       "16593  2002.0      Platform                        Kemco      0.01      0.00   \n",
       "16594  2003.0       Shooter                   Infogrames      0.01      0.00   \n",
       "16595  2008.0        Racing                   Activision      0.00      0.00   \n",
       "16596  2010.0        Puzzle                     7G//AMES      0.00      0.01   \n",
       "16597  2003.0      Platform                      Wanadoo      0.01      0.00   \n",
       "\n",
       "       JP_Sales  Other_Sales  Global_Sales  \n",
       "28         1.87         1.16         14.98  \n",
       "29         0.13         1.32         14.76  \n",
       "30         3.12         0.59         14.64  \n",
       "31         0.11         1.13         14.64  \n",
       "32         4.34         0.79         14.35  \n",
       "...         ...          ...           ...  \n",
       "16593      0.00         0.00          0.01  \n",
       "16594      0.00         0.00          0.01  \n",
       "16595      0.00         0.00          0.01  \n",
       "16596      0.00         0.00          0.01  \n",
       "16597      0.00         0.00          0.01  \n",
       "\n",
       "[16570 rows x 11 columns]"
      ],
      "text/html": "<div>\n<style scoped>\n    .dataframe tbody tr th:only-of-type {\n        vertical-align: middle;\n    }\n\n    .dataframe tbody tr th {\n        vertical-align: top;\n    }\n\n    .dataframe thead th {\n        text-align: right;\n    }\n</style>\n<table border=\"1\" class=\"dataframe\">\n  <thead>\n    <tr style=\"text-align: right;\">\n      <th></th>\n      <th>Rank</th>\n      <th>Name</th>\n      <th>Platform</th>\n      <th>Year</th>\n      <th>Genre</th>\n      <th>Publisher</th>\n      <th>NA_Sales</th>\n      <th>EU_Sales</th>\n      <th>JP_Sales</th>\n      <th>Other_Sales</th>\n      <th>Global_Sales</th>\n    </tr>\n  </thead>\n  <tbody>\n    <tr>\n      <th>28</th>\n      <td>29</td>\n      <td>Gran Turismo 3: A-Spec</td>\n      <td>PS2</td>\n      <td>2001.0</td>\n      <td>Racing</td>\n      <td>Sony Computer Entertainment</td>\n      <td>6.85</td>\n      <td>5.09</td>\n      <td>1.87</td>\n      <td>1.16</td>\n      <td>14.98</td>\n    </tr>\n    <tr>\n      <th>29</th>\n      <td>30</td>\n      <td>Call of Duty: Modern Warfare 3</td>\n      <td>X360</td>\n      <td>2011.0</td>\n      <td>Shooter</td>\n      <td>Activision</td>\n      <td>9.03</td>\n      <td>4.28</td>\n      <td>0.13</td>\n      <td>1.32</td>\n      <td>14.76</td>\n    </tr>\n    <tr>\n      <th>30</th>\n      <td>31</td>\n      <td>Pokémon Yellow: Special Pikachu Edition</td>\n      <td>GB</td>\n      <td>1998.0</td>\n      <td>Role-Playing</td>\n      <td>Nintendo</td>\n      <td>5.89</td>\n      <td>5.04</td>\n      <td>3.12</td>\n      <td>0.59</td>\n      <td>14.64</td>\n    </tr>\n    <tr>\n      <th>31</th>\n      <td>32</td>\n      <td>Call of Duty: Black Ops</td>\n      <td>X360</td>\n      <td>2010.0</td>\n      <td>Shooter</td>\n      <td>Activision</td>\n      <td>9.67</td>\n      <td>3.73</td>\n      <td>0.11</td>\n      <td>1.13</td>\n      <td>14.64</td>\n    </tr>\n    <tr>\n      <th>32</th>\n      <td>33</td>\n      <td>Pokemon X/Pokemon Y</td>\n      <td>3DS</td>\n      <td>2013.0</td>\n      <td>Role-Playing</td>\n      <td>Nintendo</td>\n      <td>5.17</td>\n      <td>4.05</td>\n      <td>4.34</td>\n      <td>0.79</td>\n      <td>14.35</td>\n    </tr>\n    <tr>\n      <th>...</th>\n      <td>...</td>\n      <td>...</td>\n      <td>...</td>\n      <td>...</td>\n      <td>...</td>\n      <td>...</td>\n      <td>...</td>\n      <td>...</td>\n      <td>...</td>\n      <td>...</td>\n      <td>...</td>\n    </tr>\n    <tr>\n      <th>16593</th>\n      <td>16596</td>\n      <td>Woody Woodpecker in Crazy Castle 5</td>\n      <td>GBA</td>\n      <td>2002.0</td>\n      <td>Platform</td>\n      <td>Kemco</td>\n      <td>0.01</td>\n      <td>0.00</td>\n      <td>0.00</td>\n      <td>0.00</td>\n      <td>0.01</td>\n    </tr>\n    <tr>\n      <th>16594</th>\n      <td>16597</td>\n      <td>Men in Black II: Alien Escape</td>\n      <td>GC</td>\n      <td>2003.0</td>\n      <td>Shooter</td>\n      <td>Infogrames</td>\n      <td>0.01</td>\n      <td>0.00</td>\n      <td>0.00</td>\n      <td>0.00</td>\n      <td>0.01</td>\n    </tr>\n    <tr>\n      <th>16595</th>\n      <td>16598</td>\n      <td>SCORE International Baja 1000: The Official Game</td>\n      <td>PS2</td>\n      <td>2008.0</td>\n      <td>Racing</td>\n      <td>Activision</td>\n      <td>0.00</td>\n      <td>0.00</td>\n      <td>0.00</td>\n      <td>0.00</td>\n      <td>0.01</td>\n    </tr>\n    <tr>\n      <th>16596</th>\n      <td>16599</td>\n      <td>Know How 2</td>\n      <td>DS</td>\n      <td>2010.0</td>\n      <td>Puzzle</td>\n      <td>7G//AMES</td>\n      <td>0.00</td>\n      <td>0.01</td>\n      <td>0.00</td>\n      <td>0.00</td>\n      <td>0.01</td>\n    </tr>\n    <tr>\n      <th>16597</th>\n      <td>16600</td>\n      <td>Spirits &amp; Spells</td>\n      <td>GBA</td>\n      <td>2003.0</td>\n      <td>Platform</td>\n      <td>Wanadoo</td>\n      <td>0.01</td>\n      <td>0.00</td>\n      <td>0.00</td>\n      <td>0.00</td>\n      <td>0.01</td>\n    </tr>\n  </tbody>\n</table>\n<p>16570 rows × 11 columns</p>\n</div>"
     },
     "metadata": {},
     "execution_count": 19
    }
   ],
   "source": [
    "df[df['Global_Sales'] < 15]"
   ]
  },
  {
   "cell_type": "code",
   "execution_count": 19,
   "metadata": {},
   "outputs": [
    {
     "output_type": "execute_result",
     "data": {
      "text/plain": [
       "                                                   Name  Global_Sales\n",
       "28                               Gran Turismo 3: A-Spec         14.98\n",
       "29                       Call of Duty: Modern Warfare 3         14.76\n",
       "30              Pokémon Yellow: Special Pikachu Edition         14.64\n",
       "31                              Call of Duty: Black Ops         14.64\n",
       "32                                  Pokemon X/Pokemon Y         14.35\n",
       "...                                                 ...           ...\n",
       "16593                Woody Woodpecker in Crazy Castle 5          0.01\n",
       "16594                     Men in Black II: Alien Escape          0.01\n",
       "16595  SCORE International Baja 1000: The Official Game          0.01\n",
       "16596                                        Know How 2          0.01\n",
       "16597                                  Spirits & Spells          0.01\n",
       "\n",
       "[16570 rows x 2 columns]"
      ],
      "text/html": "<div>\n<style scoped>\n    .dataframe tbody tr th:only-of-type {\n        vertical-align: middle;\n    }\n\n    .dataframe tbody tr th {\n        vertical-align: top;\n    }\n\n    .dataframe thead th {\n        text-align: right;\n    }\n</style>\n<table border=\"1\" class=\"dataframe\">\n  <thead>\n    <tr style=\"text-align: right;\">\n      <th></th>\n      <th>Name</th>\n      <th>Global_Sales</th>\n    </tr>\n  </thead>\n  <tbody>\n    <tr>\n      <th>28</th>\n      <td>Gran Turismo 3: A-Spec</td>\n      <td>14.98</td>\n    </tr>\n    <tr>\n      <th>29</th>\n      <td>Call of Duty: Modern Warfare 3</td>\n      <td>14.76</td>\n    </tr>\n    <tr>\n      <th>30</th>\n      <td>Pokémon Yellow: Special Pikachu Edition</td>\n      <td>14.64</td>\n    </tr>\n    <tr>\n      <th>31</th>\n      <td>Call of Duty: Black Ops</td>\n      <td>14.64</td>\n    </tr>\n    <tr>\n      <th>32</th>\n      <td>Pokemon X/Pokemon Y</td>\n      <td>14.35</td>\n    </tr>\n    <tr>\n      <th>...</th>\n      <td>...</td>\n      <td>...</td>\n    </tr>\n    <tr>\n      <th>16593</th>\n      <td>Woody Woodpecker in Crazy Castle 5</td>\n      <td>0.01</td>\n    </tr>\n    <tr>\n      <th>16594</th>\n      <td>Men in Black II: Alien Escape</td>\n      <td>0.01</td>\n    </tr>\n    <tr>\n      <th>16595</th>\n      <td>SCORE International Baja 1000: The Official Game</td>\n      <td>0.01</td>\n    </tr>\n    <tr>\n      <th>16596</th>\n      <td>Know How 2</td>\n      <td>0.01</td>\n    </tr>\n    <tr>\n      <th>16597</th>\n      <td>Spirits &amp; Spells</td>\n      <td>0.01</td>\n    </tr>\n  </tbody>\n</table>\n<p>16570 rows × 2 columns</p>\n</div>"
     },
     "metadata": {},
     "execution_count": 19
    }
   ],
   "source": [
    "df[df['Global_Sales'] < 15][['Name', 'Global_Sales']]"
   ]
  },
  {
   "cell_type": "code",
   "execution_count": 10,
   "metadata": {},
   "outputs": [
    {
     "output_type": "execute_result",
     "data": {
      "text/plain": [
       "Empty DataFrame\n",
       "Columns: [Rank, Name, Platform, Year, Genre, Publisher, NA_Sales, EU_Sales, JP_Sales, Other_Sales, Global_Sales]\n",
       "Index: []"
      ],
      "text/html": "<div>\n<style scoped>\n    .dataframe tbody tr th:only-of-type {\n        vertical-align: middle;\n    }\n\n    .dataframe tbody tr th {\n        vertical-align: top;\n    }\n\n    .dataframe thead th {\n        text-align: right;\n    }\n</style>\n<table border=\"1\" class=\"dataframe\">\n  <thead>\n    <tr style=\"text-align: right;\">\n      <th></th>\n      <th>Rank</th>\n      <th>Name</th>\n      <th>Platform</th>\n      <th>Year</th>\n      <th>Genre</th>\n      <th>Publisher</th>\n      <th>NA_Sales</th>\n      <th>EU_Sales</th>\n      <th>JP_Sales</th>\n      <th>Other_Sales</th>\n      <th>Global_Sales</th>\n    </tr>\n  </thead>\n  <tbody>\n  </tbody>\n</table>\n</div>"
     },
     "metadata": {},
     "execution_count": 10
    }
   ],
   "source": [
    "#???\n",
    "mean = df['Global_Sales'].head(20).mean()\n",
    "df[df['Global_Sales'] == mean]"
   ]
  },
  {
   "cell_type": "code",
   "execution_count": 9,
   "metadata": {},
   "outputs": [
    {
     "output_type": "error",
     "ename": "KeyError",
     "evalue": "\"['Game_Sales'] not in index\"",
     "traceback": [
      "\u001b[0;31m---------------------------------------------------------------------------\u001b[0m",
      "\u001b[0;31mKeyError\u001b[0m                                  Traceback (most recent call last)",
      "\u001b[0;32m<ipython-input-9-9950680e9646>\u001b[0m in \u001b[0;36m<module>\u001b[0;34m\u001b[0m\n\u001b[1;32m      1\u001b[0m \u001b[0;31m#???\u001b[0m\u001b[0;34m\u001b[0m\u001b[0;34m\u001b[0m\u001b[0;34m\u001b[0m\u001b[0m\n\u001b[0;32m----> 2\u001b[0;31m \u001b[0mdf\u001b[0m\u001b[0;34m[\u001b[0m\u001b[0;34m[\u001b[0m\u001b[0;34m'Name'\u001b[0m\u001b[0;34m,\u001b[0m \u001b[0;34m'Game_Sales'\u001b[0m\u001b[0;34m]\u001b[0m\u001b[0;34m]\u001b[0m\u001b[0;34m.\u001b[0m\u001b[0mgroupby\u001b[0m\u001b[0;34m(\u001b[0m\u001b[0;34m'Year'\u001b[0m\u001b[0;34m)\u001b[0m\u001b[0;34m\u001b[0m\u001b[0;34m\u001b[0m\u001b[0m\n\u001b[0m",
      "\u001b[0;32m~/codefellows/401-python/jupyter-notebooks/vg-stats/.venv/lib/python3.9/site-packages/pandas/core/frame.py\u001b[0m in \u001b[0;36m__getitem__\u001b[0;34m(self, key)\u001b[0m\n\u001b[1;32m   2910\u001b[0m             \u001b[0;32mif\u001b[0m \u001b[0mis_iterator\u001b[0m\u001b[0;34m(\u001b[0m\u001b[0mkey\u001b[0m\u001b[0;34m)\u001b[0m\u001b[0;34m:\u001b[0m\u001b[0;34m\u001b[0m\u001b[0;34m\u001b[0m\u001b[0m\n\u001b[1;32m   2911\u001b[0m                 \u001b[0mkey\u001b[0m \u001b[0;34m=\u001b[0m \u001b[0mlist\u001b[0m\u001b[0;34m(\u001b[0m\u001b[0mkey\u001b[0m\u001b[0;34m)\u001b[0m\u001b[0;34m\u001b[0m\u001b[0;34m\u001b[0m\u001b[0m\n\u001b[0;32m-> 2912\u001b[0;31m             \u001b[0mindexer\u001b[0m \u001b[0;34m=\u001b[0m \u001b[0mself\u001b[0m\u001b[0;34m.\u001b[0m\u001b[0mloc\u001b[0m\u001b[0;34m.\u001b[0m\u001b[0m_get_listlike_indexer\u001b[0m\u001b[0;34m(\u001b[0m\u001b[0mkey\u001b[0m\u001b[0;34m,\u001b[0m \u001b[0maxis\u001b[0m\u001b[0;34m=\u001b[0m\u001b[0;36m1\u001b[0m\u001b[0;34m,\u001b[0m \u001b[0mraise_missing\u001b[0m\u001b[0;34m=\u001b[0m\u001b[0;32mTrue\u001b[0m\u001b[0;34m)\u001b[0m\u001b[0;34m[\u001b[0m\u001b[0;36m1\u001b[0m\u001b[0;34m]\u001b[0m\u001b[0;34m\u001b[0m\u001b[0;34m\u001b[0m\u001b[0m\n\u001b[0m\u001b[1;32m   2913\u001b[0m \u001b[0;34m\u001b[0m\u001b[0m\n\u001b[1;32m   2914\u001b[0m         \u001b[0;31m# take() does not accept boolean indexers\u001b[0m\u001b[0;34m\u001b[0m\u001b[0;34m\u001b[0m\u001b[0;34m\u001b[0m\u001b[0m\n",
      "\u001b[0;32m~/codefellows/401-python/jupyter-notebooks/vg-stats/.venv/lib/python3.9/site-packages/pandas/core/indexing.py\u001b[0m in \u001b[0;36m_get_listlike_indexer\u001b[0;34m(self, key, axis, raise_missing)\u001b[0m\n\u001b[1;32m   1252\u001b[0m             \u001b[0mkeyarr\u001b[0m\u001b[0;34m,\u001b[0m \u001b[0mindexer\u001b[0m\u001b[0;34m,\u001b[0m \u001b[0mnew_indexer\u001b[0m \u001b[0;34m=\u001b[0m \u001b[0max\u001b[0m\u001b[0;34m.\u001b[0m\u001b[0m_reindex_non_unique\u001b[0m\u001b[0;34m(\u001b[0m\u001b[0mkeyarr\u001b[0m\u001b[0;34m)\u001b[0m\u001b[0;34m\u001b[0m\u001b[0;34m\u001b[0m\u001b[0m\n\u001b[1;32m   1253\u001b[0m \u001b[0;34m\u001b[0m\u001b[0m\n\u001b[0;32m-> 1254\u001b[0;31m         \u001b[0mself\u001b[0m\u001b[0;34m.\u001b[0m\u001b[0m_validate_read_indexer\u001b[0m\u001b[0;34m(\u001b[0m\u001b[0mkeyarr\u001b[0m\u001b[0;34m,\u001b[0m \u001b[0mindexer\u001b[0m\u001b[0;34m,\u001b[0m \u001b[0maxis\u001b[0m\u001b[0;34m,\u001b[0m \u001b[0mraise_missing\u001b[0m\u001b[0;34m=\u001b[0m\u001b[0mraise_missing\u001b[0m\u001b[0;34m)\u001b[0m\u001b[0;34m\u001b[0m\u001b[0;34m\u001b[0m\u001b[0m\n\u001b[0m\u001b[1;32m   1255\u001b[0m         \u001b[0;32mreturn\u001b[0m \u001b[0mkeyarr\u001b[0m\u001b[0;34m,\u001b[0m \u001b[0mindexer\u001b[0m\u001b[0;34m\u001b[0m\u001b[0;34m\u001b[0m\u001b[0m\n\u001b[1;32m   1256\u001b[0m \u001b[0;34m\u001b[0m\u001b[0m\n",
      "\u001b[0;32m~/codefellows/401-python/jupyter-notebooks/vg-stats/.venv/lib/python3.9/site-packages/pandas/core/indexing.py\u001b[0m in \u001b[0;36m_validate_read_indexer\u001b[0;34m(self, key, indexer, axis, raise_missing)\u001b[0m\n\u001b[1;32m   1302\u001b[0m             \u001b[0;32mif\u001b[0m \u001b[0mraise_missing\u001b[0m\u001b[0;34m:\u001b[0m\u001b[0;34m\u001b[0m\u001b[0;34m\u001b[0m\u001b[0m\n\u001b[1;32m   1303\u001b[0m                 \u001b[0mnot_found\u001b[0m \u001b[0;34m=\u001b[0m \u001b[0mlist\u001b[0m\u001b[0;34m(\u001b[0m\u001b[0mset\u001b[0m\u001b[0;34m(\u001b[0m\u001b[0mkey\u001b[0m\u001b[0;34m)\u001b[0m \u001b[0;34m-\u001b[0m \u001b[0mset\u001b[0m\u001b[0;34m(\u001b[0m\u001b[0max\u001b[0m\u001b[0;34m)\u001b[0m\u001b[0;34m)\u001b[0m\u001b[0;34m\u001b[0m\u001b[0;34m\u001b[0m\u001b[0m\n\u001b[0;32m-> 1304\u001b[0;31m                 \u001b[0;32mraise\u001b[0m \u001b[0mKeyError\u001b[0m\u001b[0;34m(\u001b[0m\u001b[0;34mf\"{not_found} not in index\"\u001b[0m\u001b[0;34m)\u001b[0m\u001b[0;34m\u001b[0m\u001b[0;34m\u001b[0m\u001b[0m\n\u001b[0m\u001b[1;32m   1305\u001b[0m \u001b[0;34m\u001b[0m\u001b[0m\n\u001b[1;32m   1306\u001b[0m             \u001b[0;31m# we skip the warning on Categorical\u001b[0m\u001b[0;34m\u001b[0m\u001b[0;34m\u001b[0m\u001b[0;34m\u001b[0m\u001b[0m\n",
      "\u001b[0;31mKeyError\u001b[0m: \"['Game_Sales'] not in index\""
     ]
    }
   ],
   "source": [
    "#???\n",
    "df[['Name', 'Game_Sales']].groupby('Year')"
   ]
  },
  {
   "cell_type": "code",
   "execution_count": 29,
   "metadata": {},
   "outputs": [],
   "source": [
    "def manufacturer_name(Name):\n",
    "    map ={}"
   ]
  },
  {
   "cell_type": "code",
   "execution_count": 10,
   "metadata": {},
   "outputs": [
    {
     "output_type": "error",
     "ename": "NameError",
     "evalue": "name 'df' is not defined",
     "traceback": [
      "\u001b[0;31m---------------------------------------------------------------------------\u001b[0m",
      "\u001b[0;31mNameError\u001b[0m                                 Traceback (most recent call last)",
      "\u001b[0;32m<ipython-input-10-de96115a1184>\u001b[0m in \u001b[0;36m<module>\u001b[0;34m\u001b[0m\n\u001b[0;32m----> 1\u001b[0;31m \u001b[0mdf\u001b[0m\u001b[0;34m[\u001b[0m\u001b[0;34m'This'\u001b[0m\u001b[0;34m]\u001b[0m \u001b[0;34m=\u001b[0m \u001b[0mdf\u001b[0m\u001b[0;34m[\u001b[0m\u001b[0;34m'Name'\u001b[0m\u001b[0;34m]\u001b[0m\u001b[0;34m.\u001b[0m\u001b[0mapply\u001b[0m\u001b[0;34m(\u001b[0m\u001b[0mmanufacturer_name\u001b[0m\u001b[0;34m)\u001b[0m\u001b[0;34m\u001b[0m\u001b[0;34m\u001b[0m\u001b[0m\n\u001b[0m",
      "\u001b[0;31mNameError\u001b[0m: name 'df' is not defined"
     ]
    }
   ],
   "source": [
    "df['This'] = df['Name'].apply(manufacturer_name)"
   ]
  },
  {
   "cell_type": "code",
   "execution_count": 18,
   "metadata": {},
   "outputs": [
    {
     "output_type": "error",
     "ename": "KeyError",
     "evalue": "\"['This'] not in index\"",
     "traceback": [
      "\u001b[0;31m---------------------------------------------------------------------------\u001b[0m",
      "\u001b[0;31mKeyError\u001b[0m                                  Traceback (most recent call last)",
      "\u001b[0;32m<ipython-input-18-096f1c17dfb2>\u001b[0m in \u001b[0;36m<module>\u001b[0;34m\u001b[0m\n\u001b[0;32m----> 1\u001b[0;31m \u001b[0mdf\u001b[0m\u001b[0;34m[\u001b[0m\u001b[0;34m[\u001b[0m\u001b[0;34m'This'\u001b[0m\u001b[0;34m,\u001b[0m \u001b[0;34m'NA_Sales'\u001b[0m\u001b[0;34m,\u001b[0m \u001b[0;34m'Other_Sales'\u001b[0m\u001b[0;34m]\u001b[0m\u001b[0;34m]\u001b[0m\u001b[0;34m.\u001b[0m\u001b[0mgroupby\u001b[0m\u001b[0;34m(\u001b[0m\u001b[0;34m'This'\u001b[0m\u001b[0;34m)\u001b[0m\u001b[0;34m.\u001b[0m\u001b[0mmedian\u001b[0m\u001b[0;34m(\u001b[0m\u001b[0;34m)\u001b[0m\u001b[0;34m\u001b[0m\u001b[0;34m\u001b[0m\u001b[0m\n\u001b[0m",
      "\u001b[0;32m~/codefellows/401-python/jupyter-notebooks/vg-stats/.venv/lib/python3.9/site-packages/pandas/core/frame.py\u001b[0m in \u001b[0;36m__getitem__\u001b[0;34m(self, key)\u001b[0m\n\u001b[1;32m   2910\u001b[0m             \u001b[0;32mif\u001b[0m \u001b[0mis_iterator\u001b[0m\u001b[0;34m(\u001b[0m\u001b[0mkey\u001b[0m\u001b[0;34m)\u001b[0m\u001b[0;34m:\u001b[0m\u001b[0;34m\u001b[0m\u001b[0;34m\u001b[0m\u001b[0m\n\u001b[1;32m   2911\u001b[0m                 \u001b[0mkey\u001b[0m \u001b[0;34m=\u001b[0m \u001b[0mlist\u001b[0m\u001b[0;34m(\u001b[0m\u001b[0mkey\u001b[0m\u001b[0;34m)\u001b[0m\u001b[0;34m\u001b[0m\u001b[0;34m\u001b[0m\u001b[0m\n\u001b[0;32m-> 2912\u001b[0;31m             \u001b[0mindexer\u001b[0m \u001b[0;34m=\u001b[0m \u001b[0mself\u001b[0m\u001b[0;34m.\u001b[0m\u001b[0mloc\u001b[0m\u001b[0;34m.\u001b[0m\u001b[0m_get_listlike_indexer\u001b[0m\u001b[0;34m(\u001b[0m\u001b[0mkey\u001b[0m\u001b[0;34m,\u001b[0m \u001b[0maxis\u001b[0m\u001b[0;34m=\u001b[0m\u001b[0;36m1\u001b[0m\u001b[0;34m,\u001b[0m \u001b[0mraise_missing\u001b[0m\u001b[0;34m=\u001b[0m\u001b[0;32mTrue\u001b[0m\u001b[0;34m)\u001b[0m\u001b[0;34m[\u001b[0m\u001b[0;36m1\u001b[0m\u001b[0;34m]\u001b[0m\u001b[0;34m\u001b[0m\u001b[0;34m\u001b[0m\u001b[0m\n\u001b[0m\u001b[1;32m   2913\u001b[0m \u001b[0;34m\u001b[0m\u001b[0m\n\u001b[1;32m   2914\u001b[0m         \u001b[0;31m# take() does not accept boolean indexers\u001b[0m\u001b[0;34m\u001b[0m\u001b[0;34m\u001b[0m\u001b[0;34m\u001b[0m\u001b[0m\n",
      "\u001b[0;32m~/codefellows/401-python/jupyter-notebooks/vg-stats/.venv/lib/python3.9/site-packages/pandas/core/indexing.py\u001b[0m in \u001b[0;36m_get_listlike_indexer\u001b[0;34m(self, key, axis, raise_missing)\u001b[0m\n\u001b[1;32m   1252\u001b[0m             \u001b[0mkeyarr\u001b[0m\u001b[0;34m,\u001b[0m \u001b[0mindexer\u001b[0m\u001b[0;34m,\u001b[0m \u001b[0mnew_indexer\u001b[0m \u001b[0;34m=\u001b[0m \u001b[0max\u001b[0m\u001b[0;34m.\u001b[0m\u001b[0m_reindex_non_unique\u001b[0m\u001b[0;34m(\u001b[0m\u001b[0mkeyarr\u001b[0m\u001b[0;34m)\u001b[0m\u001b[0;34m\u001b[0m\u001b[0;34m\u001b[0m\u001b[0m\n\u001b[1;32m   1253\u001b[0m \u001b[0;34m\u001b[0m\u001b[0m\n\u001b[0;32m-> 1254\u001b[0;31m         \u001b[0mself\u001b[0m\u001b[0;34m.\u001b[0m\u001b[0m_validate_read_indexer\u001b[0m\u001b[0;34m(\u001b[0m\u001b[0mkeyarr\u001b[0m\u001b[0;34m,\u001b[0m \u001b[0mindexer\u001b[0m\u001b[0;34m,\u001b[0m \u001b[0maxis\u001b[0m\u001b[0;34m,\u001b[0m \u001b[0mraise_missing\u001b[0m\u001b[0;34m=\u001b[0m\u001b[0mraise_missing\u001b[0m\u001b[0;34m)\u001b[0m\u001b[0;34m\u001b[0m\u001b[0;34m\u001b[0m\u001b[0m\n\u001b[0m\u001b[1;32m   1255\u001b[0m         \u001b[0;32mreturn\u001b[0m \u001b[0mkeyarr\u001b[0m\u001b[0;34m,\u001b[0m \u001b[0mindexer\u001b[0m\u001b[0;34m\u001b[0m\u001b[0;34m\u001b[0m\u001b[0m\n\u001b[1;32m   1256\u001b[0m \u001b[0;34m\u001b[0m\u001b[0m\n",
      "\u001b[0;32m~/codefellows/401-python/jupyter-notebooks/vg-stats/.venv/lib/python3.9/site-packages/pandas/core/indexing.py\u001b[0m in \u001b[0;36m_validate_read_indexer\u001b[0;34m(self, key, indexer, axis, raise_missing)\u001b[0m\n\u001b[1;32m   1302\u001b[0m             \u001b[0;32mif\u001b[0m \u001b[0mraise_missing\u001b[0m\u001b[0;34m:\u001b[0m\u001b[0;34m\u001b[0m\u001b[0;34m\u001b[0m\u001b[0m\n\u001b[1;32m   1303\u001b[0m                 \u001b[0mnot_found\u001b[0m \u001b[0;34m=\u001b[0m \u001b[0mlist\u001b[0m\u001b[0;34m(\u001b[0m\u001b[0mset\u001b[0m\u001b[0;34m(\u001b[0m\u001b[0mkey\u001b[0m\u001b[0;34m)\u001b[0m \u001b[0;34m-\u001b[0m \u001b[0mset\u001b[0m\u001b[0;34m(\u001b[0m\u001b[0max\u001b[0m\u001b[0;34m)\u001b[0m\u001b[0;34m)\u001b[0m\u001b[0;34m\u001b[0m\u001b[0;34m\u001b[0m\u001b[0m\n\u001b[0;32m-> 1304\u001b[0;31m                 \u001b[0;32mraise\u001b[0m \u001b[0mKeyError\u001b[0m\u001b[0;34m(\u001b[0m\u001b[0;34mf\"{not_found} not in index\"\u001b[0m\u001b[0;34m)\u001b[0m\u001b[0;34m\u001b[0m\u001b[0;34m\u001b[0m\u001b[0m\n\u001b[0m\u001b[1;32m   1305\u001b[0m \u001b[0;34m\u001b[0m\u001b[0m\n\u001b[1;32m   1306\u001b[0m             \u001b[0;31m# we skip the warning on Categorical\u001b[0m\u001b[0;34m\u001b[0m\u001b[0;34m\u001b[0m\u001b[0;34m\u001b[0m\u001b[0m\n",
      "\u001b[0;31mKeyError\u001b[0m: \"['This'] not in index\""
     ]
    }
   ],
   "source": [
    "df[['This', 'NA_Sales', 'Other_Sales']].groupby('This').median()"
   ]
  },
  {
   "cell_type": "code",
   "execution_count": null,
   "metadata": {},
   "outputs": [],
   "source": []
  }
 ]
}